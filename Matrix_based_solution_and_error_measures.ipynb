{
  "nbformat": 4,
  "nbformat_minor": 0,
  "metadata": {
    "colab": {
      "name": "Matrix based solution and error measures.ipynb",
      "provenance": [],
      "mount_file_id": "1Yw3wZy8b8JVvk7rb72xpYBJT0DDHxc3x",
      "authorship_tag": "ABX9TyNYa05iL08asbPSR+Yq7HKn",
      "include_colab_link": true
    },
    "kernelspec": {
      "name": "python3",
      "display_name": "Python 3"
    }
  },
  "cells": [
    {
      "cell_type": "markdown",
      "metadata": {
        "id": "view-in-github",
        "colab_type": "text"
      },
      "source": [
        "<a href=\"https://colab.research.google.com/github/Srinidi-V/Machine-Learning-algorithms/blob/main/Matrix_based_solution_and_error_measures.ipynb\" target=\"_parent\"><img src=\"https://colab.research.google.com/assets/colab-badge.svg\" alt=\"Open In Colab\"/></a>"
      ]
    },
    {
      "cell_type": "code",
      "metadata": {
        "colab": {
          "base_uri": "https://localhost:8080/"
        },
        "id": "GYXEUL0RGYxX",
        "outputId": "83f1ad92-98a2-49be-aa66-0dcd89ccfb7d"
      },
      "source": [
        "import pandas as pd\n",
        "\n",
        "data = pd.read_csv(\"/content/drive/My Drive/SEM 6/ML Lab/Dataset_2_ml_lab.csv\")\n",
        "columns = list(data.columns)\n",
        "columns\n",
        "\n",
        "# Mounted google drive"
      ],
      "execution_count": null,
      "outputs": [
        {
          "output_type": "execute_result",
          "data": {
            "text/plain": [
              "['high_GPA', 'math_SAT', 'verb_SAT', 'comp_GPA', 'univ_GPA']"
            ]
          },
          "metadata": {
            "tags": []
          },
          "execution_count": 5
        }
      ]
    },
    {
      "cell_type": "code",
      "metadata": {
        "colab": {
          "base_uri": "https://localhost:8080/",
          "height": 402
        },
        "id": "hGoshtZ3PBvP",
        "outputId": "e9e1be0b-a71b-4990-f2d7-b1c07e5d8fc3"
      },
      "source": [
        "data"
      ],
      "execution_count": null,
      "outputs": [
        {
          "output_type": "execute_result",
          "data": {
            "text/html": [
              "<div>\n",
              "<style scoped>\n",
              "    .dataframe tbody tr th:only-of-type {\n",
              "        vertical-align: middle;\n",
              "    }\n",
              "\n",
              "    .dataframe tbody tr th {\n",
              "        vertical-align: top;\n",
              "    }\n",
              "\n",
              "    .dataframe thead th {\n",
              "        text-align: right;\n",
              "    }\n",
              "</style>\n",
              "<table border=\"1\" class=\"dataframe\">\n",
              "  <thead>\n",
              "    <tr style=\"text-align: right;\">\n",
              "      <th></th>\n",
              "      <th>high_GPA</th>\n",
              "      <th>math_SAT</th>\n",
              "      <th>verb_SAT</th>\n",
              "      <th>comp_GPA</th>\n",
              "      <th>univ_GPA</th>\n",
              "    </tr>\n",
              "  </thead>\n",
              "  <tbody>\n",
              "    <tr>\n",
              "      <th>0</th>\n",
              "      <td>3.45</td>\n",
              "      <td>643</td>\n",
              "      <td>589</td>\n",
              "      <td>3.76</td>\n",
              "      <td>3.52</td>\n",
              "    </tr>\n",
              "    <tr>\n",
              "      <th>1</th>\n",
              "      <td>2.78</td>\n",
              "      <td>558</td>\n",
              "      <td>512</td>\n",
              "      <td>2.87</td>\n",
              "      <td>2.91</td>\n",
              "    </tr>\n",
              "    <tr>\n",
              "      <th>2</th>\n",
              "      <td>2.52</td>\n",
              "      <td>583</td>\n",
              "      <td>503</td>\n",
              "      <td>2.54</td>\n",
              "      <td>2.40</td>\n",
              "    </tr>\n",
              "    <tr>\n",
              "      <th>3</th>\n",
              "      <td>3.67</td>\n",
              "      <td>685</td>\n",
              "      <td>602</td>\n",
              "      <td>3.83</td>\n",
              "      <td>3.47</td>\n",
              "    </tr>\n",
              "    <tr>\n",
              "      <th>4</th>\n",
              "      <td>3.24</td>\n",
              "      <td>592</td>\n",
              "      <td>538</td>\n",
              "      <td>3.29</td>\n",
              "      <td>3.47</td>\n",
              "    </tr>\n",
              "    <tr>\n",
              "      <th>...</th>\n",
              "      <td>...</td>\n",
              "      <td>...</td>\n",
              "      <td>...</td>\n",
              "      <td>...</td>\n",
              "      <td>...</td>\n",
              "    </tr>\n",
              "    <tr>\n",
              "      <th>100</th>\n",
              "      <td>3.76</td>\n",
              "      <td>605</td>\n",
              "      <td>590</td>\n",
              "      <td>3.74</td>\n",
              "      <td>3.64</td>\n",
              "    </tr>\n",
              "    <tr>\n",
              "      <th>101</th>\n",
              "      <td>3.49</td>\n",
              "      <td>692</td>\n",
              "      <td>683</td>\n",
              "      <td>3.27</td>\n",
              "      <td>3.42</td>\n",
              "    </tr>\n",
              "    <tr>\n",
              "      <th>102</th>\n",
              "      <td>3.07</td>\n",
              "      <td>680</td>\n",
              "      <td>692</td>\n",
              "      <td>3.19</td>\n",
              "      <td>3.25</td>\n",
              "    </tr>\n",
              "    <tr>\n",
              "      <th>103</th>\n",
              "      <td>2.19</td>\n",
              "      <td>617</td>\n",
              "      <td>503</td>\n",
              "      <td>2.98</td>\n",
              "      <td>2.76</td>\n",
              "    </tr>\n",
              "    <tr>\n",
              "      <th>104</th>\n",
              "      <td>3.46</td>\n",
              "      <td>516</td>\n",
              "      <td>528</td>\n",
              "      <td>3.28</td>\n",
              "      <td>3.41</td>\n",
              "    </tr>\n",
              "  </tbody>\n",
              "</table>\n",
              "<p>105 rows × 5 columns</p>\n",
              "</div>"
            ],
            "text/plain": [
              "     high_GPA  math_SAT  verb_SAT  comp_GPA  univ_GPA\n",
              "0        3.45       643       589      3.76      3.52\n",
              "1        2.78       558       512      2.87      2.91\n",
              "2        2.52       583       503      2.54      2.40\n",
              "3        3.67       685       602      3.83      3.47\n",
              "4        3.24       592       538      3.29      3.47\n",
              "..        ...       ...       ...       ...       ...\n",
              "100      3.76       605       590      3.74      3.64\n",
              "101      3.49       692       683      3.27      3.42\n",
              "102      3.07       680       692      3.19      3.25\n",
              "103      2.19       617       503      2.98      2.76\n",
              "104      3.46       516       528      3.28      3.41\n",
              "\n",
              "[105 rows x 5 columns]"
            ]
          },
          "metadata": {
            "tags": []
          },
          "execution_count": 6
        }
      ]
    },
    {
      "cell_type": "code",
      "metadata": {
        "colab": {
          "base_uri": "https://localhost:8080/",
          "height": 903
        },
        "id": "dr_a69Y8KVxK",
        "outputId": "d50351f2-a28b-49e8-f047-e9369252c740"
      },
      "source": [
        "import seaborn as sns\n",
        "\n",
        "ax = sns.pairplot(data)"
      ],
      "execution_count": null,
      "outputs": [
        {
          "output_type": "display_data",
          "data": {
            "image/png": "[encoded data removed]",
            "text/plain": [
              "<Figure size 900x900 with 30 Axes>"
            ]
          },
          "metadata": {
            "tags": [],
            "needs_background": "light"
          }
        }
      ]
    },
    {
      "cell_type": "markdown",
      "metadata": {
        "id": "BzckwP5oeg4V"
      },
      "source": [
        "# **Functions to be used**"
      ]
    },
    {
      "cell_type": "markdown",
      "metadata": {
        "id": "QeS4H92yeoOd"
      },
      "source": [
        "**Total Sum of Squares**"
      ]
    },
    {
      "cell_type": "code",
      "metadata": {
        "id": "9Xfey8BMUbDU"
      },
      "source": [
        "def SST(y1,y2):   # y1 - y_target    y2 - mean\n",
        "  temp = 0\n",
        "  for i in range(len(y1)):\n",
        "    x = y1[i] - y2\n",
        "    x = x**2\n",
        "    temp += x\n",
        "  return temp"
      ],
      "execution_count": null,
      "outputs": []
    },
    {
      "cell_type": "markdown",
      "metadata": {
        "id": "QZeIOVlNe30t"
      },
      "source": [
        "**Sum of Squared Errors**"
      ]
    },
    {
      "cell_type": "code",
      "metadata": {
        "id": "eoTGvGHhUxON"
      },
      "source": [
        "def SSE(y1,y2):   # y1 - y_target   y2 - y_predicted\n",
        "  temp = 0\n",
        "  for i in range(len(y1)):\n",
        "    x = y1[i] - y2[i]\n",
        "    x = x**2\n",
        "    temp += x\n",
        "  return temp"
      ],
      "execution_count": null,
      "outputs": []
    },
    {
      "cell_type": "markdown",
      "metadata": {
        "id": "dKyQqsXTe-V-"
      },
      "source": [
        "**Regression Sum of Squares**"
      ]
    },
    {
      "cell_type": "code",
      "metadata": {
        "id": "LpZkYs1MVG84"
      },
      "source": [
        "def SSR(y1,y2,mean):\n",
        "  temp = SST(y1,mean) - SSE(y1,y2)\n",
        "  return temp"
      ],
      "execution_count": null,
      "outputs": []
    },
    {
      "cell_type": "markdown",
      "metadata": {
        "id": "zN7mWuj_fCzr"
      },
      "source": [
        "**Mean Squared Error**"
      ]
    },
    {
      "cell_type": "code",
      "metadata": {
        "id": "FPFUK630VQ4W"
      },
      "source": [
        "def MSE(y1,y2):   # y1 - y_target   y2 - y_predicted\n",
        "  temp = 0\n",
        "  for i in range(len(y1)):\n",
        "    x = y1[i] - y2[i]\n",
        "    x = x**2\n",
        "    temp += x\n",
        "  temp = temp / len(y1)\n",
        "  return temp"
      ],
      "execution_count": null,
      "outputs": []
    },
    {
      "cell_type": "markdown",
      "metadata": {
        "id": "Z5ay25bRfHHa"
      },
      "source": [
        "**Root Mean Squared Error**"
      ]
    },
    {
      "cell_type": "code",
      "metadata": {
        "id": "SvxJwhnXVcCU"
      },
      "source": [
        "def RMSE(y1,y2):\n",
        "  temp = MSE(y1,y2)\n",
        "  temp = temp**0.5\n",
        "  return temp"
      ],
      "execution_count": null,
      "outputs": []
    },
    {
      "cell_type": "markdown",
      "metadata": {
        "id": "U_h0dOhofNOL"
      },
      "source": [
        "**R2 or coefficient of determination**"
      ]
    },
    {
      "cell_type": "code",
      "metadata": {
        "id": "UXOdyEaJVl_Q"
      },
      "source": [
        "def R2(y1,y2,mean):\n",
        "  temp = SSR(y1,y2,mean) / SST(y1,mean)\n",
        "  return temp"
      ],
      "execution_count": null,
      "outputs": []
    },
    {
      "cell_type": "markdown",
      "metadata": {
        "id": "SfioukrDfXLA"
      },
      "source": [
        "**Linear model with specified parameters**"
      ]
    },
    {
      "cell_type": "code",
      "metadata": {
        "id": "c1VlgToDSwCE"
      },
      "source": [
        "def lin_model(w1,w0,x):\n",
        "  return (w1*x + w0)"
      ],
      "execution_count": null,
      "outputs": []
    },
    {
      "cell_type": "markdown",
      "metadata": {
        "id": "7O41iSqQDTeg"
      },
      "source": [
        "## **NOTE** : For finding the parameters w0 and w1, **matrix based solution method** has been employed"
      ]
    },
    {
      "cell_type": "markdown",
      "metadata": {
        "id": "O-gvu6OPZu1S"
      },
      "source": [
        "# **MODEL - 1 (high_GPA)**"
      ]
    },
    {
      "cell_type": "code",
      "metadata": {
        "id": "WpkXEwub7W-3"
      },
      "source": [
        "from sklearn.model_selection import train_test_split\n",
        "\n",
        "x_train, x_test, y_train, y_test = train_test_split(data['high_GPA'], data['univ_GPA'], test_size=0.3, random_state = 42)"
      ],
      "execution_count": null,
      "outputs": []
    },
    {
      "cell_type": "code",
      "metadata": {
        "colab": {
          "base_uri": "https://localhost:8080/"
        },
        "id": "fO6CxHZD8hGi",
        "outputId": "797693d0-5316-437d-81a1-1cb068563b2d"
      },
      "source": [
        "x_train"
      ],
      "execution_count": null,
      "outputs": [
        {
          "output_type": "execute_result",
          "data": {
            "text/plain": [
              "103    2.19\n",
              "78     3.11\n",
              "28     3.34\n",
              "79     3.28\n",
              "5      2.10\n",
              "       ... \n",
              "71     3.61\n",
              "14     3.51\n",
              "92     3.28\n",
              "51     2.84\n",
              "102    3.07\n",
              "Name: high_GPA, Length: 73, dtype: float64"
            ]
          },
          "metadata": {
            "tags": []
          },
          "execution_count": 133
        }
      ]
    },
    {
      "cell_type": "code",
      "metadata": {
        "colab": {
          "base_uri": "https://localhost:8080/"
        },
        "id": "NR-jGiV-MaJN",
        "outputId": "91b849e5-21cd-41a0-ebc9-ed0104011725"
      },
      "source": [
        "import numpy as np\n",
        "\n",
        "indices = []\n",
        "\n",
        "for i in x_train.index:\n",
        "  indices.append(i)\n",
        "\n",
        "  x = [[1,x_train[indices[0]]]]\n",
        "\n",
        "  for i in range(1,len(indices)):\n",
        "    x.append([1,x_train[indices[i]]])\n",
        "\n",
        "x = np.array(x)\n",
        "x = np.asmatrix(x)\n",
        "x.shape"
      ],
      "execution_count": null,
      "outputs": [
        {
          "output_type": "execute_result",
          "data": {
            "text/plain": [
              "(73, 2)"
            ]
          },
          "metadata": {
            "tags": []
          },
          "execution_count": 136
        }
      ]
    },
    {
      "cell_type": "code",
      "metadata": {
        "colab": {
          "base_uri": "https://localhost:8080/"
        },
        "id": "UxtoUPXfRGiO",
        "outputId": "a64338fd-8e67-460f-f93b-de1df58fcac7"
      },
      "source": [
        "xT = np.matrix.transpose(x)\n",
        "xT.shape"
      ],
      "execution_count": null,
      "outputs": [
        {
          "output_type": "execute_result",
          "data": {
            "text/plain": [
              "(2, 73)"
            ]
          },
          "metadata": {
            "tags": []
          },
          "execution_count": 137
        }
      ]
    },
    {
      "cell_type": "code",
      "metadata": {
        "colab": {
          "base_uri": "https://localhost:8080/"
        },
        "id": "bjZjwOkHRNEx",
        "outputId": "87d27db0-1671-4ac8-ac6a-619aa8624e63"
      },
      "source": [
        "y = np.matrix(np.array(y_train))\n",
        "y = np.matrix.transpose(y)\n",
        "y.shape"
      ],
      "execution_count": null,
      "outputs": [
        {
          "output_type": "execute_result",
          "data": {
            "text/plain": [
              "(73, 1)"
            ]
          },
          "metadata": {
            "tags": []
          },
          "execution_count": 138
        }
      ]
    },
    {
      "cell_type": "code",
      "metadata": {
        "colab": {
          "base_uri": "https://localhost:8080/"
        },
        "id": "B5Z7DZIKRxUM",
        "outputId": "73e734c3-37ee-4b81-c949-cf3b852e835c"
      },
      "source": [
        "a = xT @ y\n",
        "a"
      ],
      "execution_count": null,
      "outputs": [
        {
          "output_type": "execute_result",
          "data": {
            "text/plain": [
              "matrix([[233.34  ],\n",
              "        [735.5564]])"
            ]
          },
          "metadata": {
            "tags": []
          },
          "execution_count": 139
        }
      ]
    },
    {
      "cell_type": "code",
      "metadata": {
        "colab": {
          "base_uri": "https://localhost:8080/"
        },
        "id": "6sX1PROzSP-z",
        "outputId": "5a0fcabe-59c7-4437-e433-c759aaf5ebce"
      },
      "source": [
        "b = np.linalg.inv((xT@x))\n",
        "b"
      ],
      "execution_count": null,
      "outputs": [
        {
          "output_type": "execute_result",
          "data": {
            "text/plain": [
              "matrix([[ 0.50822447, -0.15970089],\n",
              "        [-0.15970089,  0.05157339]])"
            ]
          },
          "metadata": {
            "tags": []
          },
          "execution_count": 140
        }
      ]
    },
    {
      "cell_type": "code",
      "metadata": {
        "colab": {
          "base_uri": "https://localhost:8080/"
        },
        "id": "qc4pMgtpRYBD",
        "outputId": "d5c46462-11b6-4e11-b7a2-aea2b1f7186e"
      },
      "source": [
        "w = b @ a\n",
        "w0 = w.item(0)\n",
        "w1 = w.item(1)\n",
        "\n",
        "#For bias calculation\n",
        "beta_w0 = w0  \n",
        "beta_w1 = w1\n",
        "\n",
        "print(\"W0: \",w0)\n",
        "print(\"W1: \",w1)"
      ],
      "execution_count": null,
      "outputs": [
        {
          "output_type": "stream",
          "text": [
            "W0:  1.1200856867166908\n",
            "W1:  0.6705319392598158\n"
          ],
          "name": "stdout"
        }
      ]
    },
    {
      "cell_type": "code",
      "metadata": {
        "colab": {
          "base_uri": "https://localhost:8080/"
        },
        "id": "15prOKWsTDsT",
        "outputId": "1099bc5f-638c-40e2-b64b-d9a55578adfa"
      },
      "source": [
        "y_predicted = []\n",
        "\n",
        "for i in x_test.index:\n",
        "  y_predicted.append(lin_model(w1,w0,x_test[i]))\n",
        "\n",
        "y_predicted"
      ],
      "execution_count": null,
      "outputs": [
        {
          "output_type": "execute_result",
          "data": {
            "text/plain": [
              "[3.5071793904816353,\n",
              " 3.4133049189852604,\n",
              " 3.7619815274003647,\n",
              " 2.937227242110792,\n",
              " 2.7360676603328473,\n",
              " 3.4133049189852604,\n",
              " 3.4401261965556538,\n",
              " 2.9037006451478007,\n",
              " 3.4535368353408495,\n",
              " 3.433420877163056,\n",
              " 2.5617293561252947,\n",
              " 3.6748123752965887,\n",
              " 3.0176910748219696,\n",
              " 2.970753839073782,\n",
              " 3.0042804360367734,\n",
              " 3.292609169918494,\n",
              " 2.9305219227181936,\n",
              " 3.802213443755954,\n",
              " 2.8567634093996137,\n",
              " 2.890290006362605,\n",
              " 2.7830048960810343,\n",
              " 2.7830048960810343,\n",
              " 2.7695942572958376,\n",
              " 3.078038949355353,\n",
              " 2.896995325755203,\n",
              " 3.3194304474888865,\n",
              " 3.5876432231928135,\n",
              " 3.071333629962755,\n",
              " 3.2255559759925125,\n",
              " 3.473652793518644,\n",
              " 3.3194304474888865,\n",
              " 2.555024036732697]"
            ]
          },
          "metadata": {
            "tags": []
          },
          "execution_count": 147
        }
      ]
    },
    {
      "cell_type": "code",
      "metadata": {
        "colab": {
          "base_uri": "https://localhost:8080/"
        },
        "id": "UPwA4X0hTwsD",
        "outputId": "734d3f98-3f9d-49ee-a012-bf2fd80202a0"
      },
      "source": [
        "y_target = list(y_test)\n",
        "y_target"
      ],
      "execution_count": null,
      "outputs": [
        {
          "output_type": "execute_result",
          "data": {
            "text/plain": [
              "[3.62,\n",
              " 3.01,\n",
              " 3.71,\n",
              " 2.38,\n",
              " 3.19,\n",
              " 3.17,\n",
              " 3.41,\n",
              " 3.08,\n",
              " 3.59,\n",
              " 3.52,\n",
              " 2.25,\n",
              " 3.6,\n",
              " 3.0,\n",
              " 2.34,\n",
              " 3.2,\n",
              " 3.47,\n",
              " 3.17,\n",
              " 3.76,\n",
              " 3.19,\n",
              " 2.4,\n",
              " 2.08,\n",
              " 2.24,\n",
              " 3.28,\n",
              " 3.17,\n",
              " 3.28,\n",
              " 3.31,\n",
              " 3.4,\n",
              " 3.28,\n",
              " 3.37,\n",
              " 3.32,\n",
              " 3.48,\n",
              " 2.54]"
            ]
          },
          "metadata": {
            "tags": []
          },
          "execution_count": 149
        }
      ]
    },
    {
      "cell_type": "code",
      "metadata": {
        "colab": {
          "base_uri": "https://localhost:8080/"
        },
        "id": "t90hJNP1iy1N",
        "outputId": "f7c4c7fc-9b5d-46ed-b6a3-96358d781653"
      },
      "source": [
        "mean = y_test.mean()\n",
        "mean"
      ],
      "execution_count": null,
      "outputs": [
        {
          "output_type": "execute_result",
          "data": {
            "text/plain": [
              "3.1190625000000005"
            ]
          },
          "metadata": {
            "tags": []
          },
          "execution_count": 151
        }
      ]
    },
    {
      "cell_type": "code",
      "metadata": {
        "colab": {
          "base_uri": "https://localhost:8080/"
        },
        "id": "nsyOPFOgV0oI",
        "outputId": "44107b35-7a79-48aa-ffbc-cf06c4e4c23d"
      },
      "source": [
        "print(\"SST: \",SST(y_target,mean))\n",
        "print(\"SSE: \",SSE(y_target,y_predicted))\n",
        "print(\"SSR: \",SSR(y_target,y_predicted,mean))\n",
        "print(\"MSE: \",MSE(y_target,y_predicted))\n",
        "print(\"RMSE: \",RMSE(y_target,y_predicted))\n",
        "print(\"R2: \",R2(y_target,y_predicted,mean))\n",
        "print(\"Correlation: \",np.corrcoef(data['high_GPA'],data['univ_GPA']))"
      ],
      "execution_count": null,
      "outputs": [
        {
          "output_type": "stream",
          "text": [
            "SST:  6.924471875\n",
            "SSE:  3.147274190744966\n",
            "SSR:  3.777197684255034\n",
            "MSE:  0.09835231846078019\n",
            "RMSE:  0.31361173202031234\n",
            "R2:  0.5454853095572771\n",
            "Correlation:  [[1.         0.77956312]\n",
            " [0.77956312 1.        ]]\n"
          ],
          "name": "stdout"
        }
      ]
    },
    {
      "cell_type": "markdown",
      "metadata": {
        "id": "ddEw6yPJff62"
      },
      "source": [
        "**Observation** : Since R2 is 0.54, it is not a great model"
      ]
    },
    {
      "cell_type": "code",
      "metadata": {
        "colab": {
          "base_uri": "https://localhost:8080/",
          "height": 282
        },
        "id": "6g77BzA2Xk4W",
        "outputId": "19a29b4b-2cff-4c8c-be41-fbd42b80c57e"
      },
      "source": [
        "import matplotlib.pyplot as plt\n",
        "\n",
        "plt.scatter(data['high_GPA'],data['univ_GPA'])\n",
        "plt.plot(data['high_GPA'],w0+w1*data['high_GPA'],color=\"r\")"
      ],
      "execution_count": null,
      "outputs": [
        {
          "output_type": "execute_result",
          "data": {
            "text/plain": [
              "[<matplotlib.lines.Line2D at 0x7f5308842390>]"
            ]
          },
          "metadata": {
            "tags": []
          },
          "execution_count": 112
        },
        {
          "output_type": "display_data",
          "data": {
            "image/png": "[encoded data removed]",
            "text/plain": [
              "<Figure size 432x288 with 1 Axes>"
            ]
          },
          "metadata": {
            "tags": [],
            "needs_background": "light"
          }
        }
      ]
    },
    {
      "cell_type": "markdown",
      "metadata": {
        "id": "90zSrKlFDqTL"
      },
      "source": [
        "**Observation** : This seems to be heteroscedastic in nature"
      ]
    },
    {
      "cell_type": "code",
      "metadata": {
        "colab": {
          "base_uri": "https://localhost:8080/"
        },
        "id": "w0BAqEbL6-Yv",
        "outputId": "3efaeb7b-a653-4b24-e381-0777b256583e"
      },
      "source": [
        "# BIAS\n",
        "\n",
        "w0_list = []\n",
        "w1_list = []\n",
        "\n",
        "for j in range(10):\n",
        "  data_1 = data.sample(frac=0.4)\n",
        "\n",
        "  indices = []\n",
        "\n",
        "  for i in data_1.index:\n",
        "    indices.append(i)\n",
        "\n",
        "  x = [[1,data_1['high_GPA'][indices[0]]]]\n",
        "\n",
        "  for i in range(1,len(indices)):\n",
        "    x.append([1,data_1['high_GPA'][indices[i]]])\n",
        "\n",
        "  x = np.array(x)\n",
        "  x = np.asmatrix(x)\n",
        "\n",
        "  xT = np.matrix.transpose(x)\n",
        "\n",
        "  y = np.matrix(np.array(data_1['univ_GPA']))\n",
        "  y = np.matrix.transpose(y)\n",
        "\n",
        "  a = xT @ y\n",
        "  b = np.linalg.inv((xT@x))\n",
        "  w = b @ a\n",
        "  w0 = w.item(0)\n",
        "  w1 = w.item(1)\n",
        "\n",
        "  w0_list.append(w0)\n",
        "  w1_list.append(w1)\n",
        "\n",
        "print(w0_list)\n",
        "print(w1_list)"
      ],
      "execution_count": null,
      "outputs": [
        {
          "output_type": "stream",
          "text": [
            "[1.2438622485580237, 1.73943891471633, 1.4109631995939036, 1.3005355807930383, 1.2215100097910425, 0.8718974905217626, 1.4596891501393632, 1.12906974910797, 1.4068256574367932, 0.9739039430086923]\n",
            "[0.6255903244162271, 0.4908334547445381, 0.5836388580178725, 0.6162423170775919, 0.6429535654021649, 0.7417619060086158, 0.567418915950494, 0.6692118526534143, 0.5799423735176787, 0.7136058119694513]\n"
          ],
          "name": "stdout"
        }
      ]
    },
    {
      "cell_type": "code",
      "metadata": {
        "colab": {
          "base_uri": "https://localhost:8080/"
        },
        "id": "25cQgJIN7K0C",
        "outputId": "0a1739f3-40fb-41f2-e4c8-2f664068eba5"
      },
      "source": [
        "estimated_w0 = 0\n",
        "estimated_w1 = 0\n",
        "\n",
        "for i in range(len(w0_list)):\n",
        "  estimated_w0 += w0_list[i]\n",
        "  estimated_w1 += w1_list[i]\n",
        "\n",
        "estimated_w0 = estimated_w0 / len(w0_list)\n",
        "estimated_w1 = estimated_w1 / len(w1_list)\n",
        "\n",
        "bias_w0 = estimated_w0 - beta_w0\n",
        "bias_w1 = estimated_w1 - beta_w1\n",
        "\n",
        "print(\"Bias w0,w1 : \", bias_w0, \"\\t\", bias_w1)"
      ],
      "execution_count": null,
      "outputs": [
        {
          "output_type": "stream",
          "text": [
            "Bias w0,w1 :  0.15568390765000095 \t -0.04741200128401091\n"
          ],
          "name": "stdout"
        }
      ]
    },
    {
      "cell_type": "markdown",
      "metadata": {
        "id": "BD3axRZcZ4Mi"
      },
      "source": [
        "# **MODEL - 2 (comp_GPA)**"
      ]
    },
    {
      "cell_type": "code",
      "metadata": {
        "id": "4_4wPKm-BCsP"
      },
      "source": [
        "from sklearn.model_selection import train_test_split\n",
        "\n",
        "x_train, x_test, y_train, y_test = train_test_split(data['comp_GPA'], data['univ_GPA'], test_size=0.3, random_state = 42)"
      ],
      "execution_count": null,
      "outputs": []
    },
    {
      "cell_type": "code",
      "metadata": {
        "colab": {
          "base_uri": "https://localhost:8080/"
        },
        "id": "Eu_Sh76kYSS1",
        "outputId": "8a15a0d9-9865-43ca-cef0-3b12da781d47"
      },
      "source": [
        "indices = []\n",
        "\n",
        "for i in x_train.index:\n",
        "  indices.append(i)\n",
        "\n",
        "  x = [[1,x_train[indices[0]]]]\n",
        "\n",
        "  for i in range(1,len(indices)):\n",
        "    x.append([1,x_train[indices[i]]])\n",
        "\n",
        "x = np.array(x)\n",
        "x = np.asmatrix(x)\n",
        "x.shape"
      ],
      "execution_count": null,
      "outputs": [
        {
          "output_type": "execute_result",
          "data": {
            "text/plain": [
              "(73, 2)"
            ]
          },
          "metadata": {
            "tags": []
          },
          "execution_count": 156
        }
      ]
    },
    {
      "cell_type": "code",
      "metadata": {
        "colab": {
          "base_uri": "https://localhost:8080/"
        },
        "id": "Ugd1afh0YkTv",
        "outputId": "559b33c7-d670-431f-ca32-54feed82936d"
      },
      "source": [
        "xT = np.matrix.transpose(x)\n",
        "xT.shape"
      ],
      "execution_count": null,
      "outputs": [
        {
          "output_type": "execute_result",
          "data": {
            "text/plain": [
              "(2, 73)"
            ]
          },
          "metadata": {
            "tags": []
          },
          "execution_count": 157
        }
      ]
    },
    {
      "cell_type": "code",
      "metadata": {
        "colab": {
          "base_uri": "https://localhost:8080/"
        },
        "id": "PHAYHNt3Yrve",
        "outputId": "53480b64-56e2-476e-e66a-3160e64389a8"
      },
      "source": [
        "y = np.matrix(np.array(y_train))\n",
        "y = np.matrix.transpose(y)\n",
        "y.shape"
      ],
      "execution_count": null,
      "outputs": [
        {
          "output_type": "execute_result",
          "data": {
            "text/plain": [
              "(73, 1)"
            ]
          },
          "metadata": {
            "tags": []
          },
          "execution_count": 158
        }
      ]
    },
    {
      "cell_type": "code",
      "metadata": {
        "colab": {
          "base_uri": "https://localhost:8080/"
        },
        "id": "XWcAs5wqYsNd",
        "outputId": "1956a424-6d59-468c-a4e9-0125cddffe6e"
      },
      "source": [
        "a = xT @ y\n",
        "b = np.linalg.inv((xT@x))\n",
        "w = b @ a\n",
        "w0 = w.item(0)\n",
        "w1 = w.item(1)\n",
        "\n",
        "#For bias calculation\n",
        "beta_w0 = w0  \n",
        "beta_w1 = w1\n",
        "\n",
        "print(\"W0: \",w0)\n",
        "print(\"W1: \",w1)"
      ],
      "execution_count": null,
      "outputs": [
        {
          "output_type": "stream",
          "text": [
            "W0:  0.7016362198491638\n",
            "W1:  0.7934844717280045\n"
          ],
          "name": "stdout"
        }
      ]
    },
    {
      "cell_type": "code",
      "metadata": {
        "colab": {
          "base_uri": "https://localhost:8080/"
        },
        "id": "-DPDbriVZSLf",
        "outputId": "4e0ecc3e-78c5-4264-bbb5-247bb31e701e"
      },
      "source": [
        "y_predicted = []\n",
        "\n",
        "for i in x_test.index:\n",
        "  y_predicted.append(lin_model(w1,w0,x_test[i]))\n",
        "\n",
        "y_predicted"
      ],
      "execution_count": null,
      "outputs": [
        {
          "output_type": "execute_result",
          "data": {
            "text/plain": [
              "[3.4629621814626197,\n",
              " 3.1535032374886978,\n",
              " 3.859704417326622,\n",
              " 2.6774125544518954,\n",
              " 3.1376335480541377,\n",
              " 3.1376335480541377,\n",
              " 3.3042652871170186,\n",
              " 3.034480566729497,\n",
              " 3.56611516278726,\n",
              " 3.685137833546461,\n",
              " 2.3996929893470935,\n",
              " 3.6454636099600606,\n",
              " 2.9075230512530164,\n",
              " 2.4076278340643733,\n",
              " 3.193177461075098,\n",
              " 3.312200131834299,\n",
              " 3.0979593244677375,\n",
              " 3.748616591284701,\n",
              " 3.2487213740960583,\n",
              " 2.693282243886455,\n",
              " 2.3996929893470935,\n",
              " 2.3441490763261332,\n",
              " 3.2169819952269383,\n",
              " 3.1535032374886978,\n",
              " 3.328069821268859,\n",
              " 3.399483423724379,\n",
              " 3.4947015603317397,\n",
              " 3.2169819952269383,\n",
              " 3.3042652871170186,\n",
              " 3.4074182684416594,\n",
              " 3.3360046659861387,\n",
              " 2.669477709734615]"
            ]
          },
          "metadata": {
            "tags": []
          },
          "execution_count": 160
        }
      ]
    },
    {
      "cell_type": "code",
      "metadata": {
        "id": "gYA5D03tB4Zd"
      },
      "source": [
        "y_target = list(y_test)"
      ],
      "execution_count": null,
      "outputs": []
    },
    {
      "cell_type": "code",
      "metadata": {
        "colab": {
          "base_uri": "https://localhost:8080/"
        },
        "id": "f4YlStOhCH4R",
        "outputId": "678a8374-a413-40be-a128-52db5b672978"
      },
      "source": [
        "mean = y_test.mean()\n",
        "mean"
      ],
      "execution_count": null,
      "outputs": [
        {
          "output_type": "execute_result",
          "data": {
            "text/plain": [
              "3.1190625000000005"
            ]
          },
          "metadata": {
            "tags": []
          },
          "execution_count": 162
        }
      ]
    },
    {
      "cell_type": "code",
      "metadata": {
        "colab": {
          "base_uri": "https://localhost:8080/"
        },
        "id": "tnu57QuCZeQi",
        "outputId": "14e62b47-d15c-4a7c-8aa4-5d002d5d6f65"
      },
      "source": [
        "print(\"SST: \",SST(y_target,mean))\n",
        "print(\"SSE: \",SSE(y_target,y_predicted))\n",
        "print(\"SSR: \",SSR(y_target,y_predicted,mean))\n",
        "print(\"MSE: \",MSE(y_target,y_predicted))\n",
        "print(\"RMSE: \",RMSE(y_target,y_predicted))\n",
        "print(\"R2: \",R2(y_target,y_predicted,mean))\n",
        "print(\"Correlation: \",np.corrcoef(data['comp_GPA'],data['univ_GPA']))"
      ],
      "execution_count": null,
      "outputs": [
        {
          "output_type": "stream",
          "text": [
            "SST:  6.924471875\n",
            "SSE:  0.5483461022560092\n",
            "SSR:  6.376125772743991\n",
            "MSE:  0.017135815695500288\n",
            "RMSE:  0.13090384140849454\n",
            "R2:  0.9208104080492046\n",
            "Correlation:  [[1.         0.93904588]\n",
            " [0.93904588 1.        ]]\n"
          ],
          "name": "stdout"
        }
      ]
    },
    {
      "cell_type": "markdown",
      "metadata": {
        "id": "4r0GppGvfxii"
      },
      "source": [
        "**Observation** : Since R2 is 0.92, which is close to ideal value 1, it is the best model. "
      ]
    },
    {
      "cell_type": "code",
      "metadata": {
        "colab": {
          "base_uri": "https://localhost:8080/",
          "height": 282
        },
        "id": "Tgac-0EIZmEZ",
        "outputId": "499388b6-9ed9-4952-aa28-317466f76e80"
      },
      "source": [
        "plt.scatter(data['comp_GPA'],data['univ_GPA'])\n",
        "plt.plot(data['comp_GPA'],w0+w1*data['comp_GPA'],color=\"r\")"
      ],
      "execution_count": null,
      "outputs": [
        {
          "output_type": "execute_result",
          "data": {
            "text/plain": [
              "[<matplotlib.lines.Line2D at 0x7f52f12d35f8>]"
            ]
          },
          "metadata": {
            "tags": []
          },
          "execution_count": 164
        },
        {
          "output_type": "display_data",
          "data": {
            "image/png": "[encoded data removed]",
            "text/plain": [
              "<Figure size 432x288 with 1 Axes>"
            ]
          },
          "metadata": {
            "tags": [],
            "needs_background": "light"
          }
        }
      ]
    },
    {
      "cell_type": "markdown",
      "metadata": {
        "id": "tXQOZrIaECCZ"
      },
      "source": [
        "**Observation** : This seems to be homoscedastic in nature"
      ]
    },
    {
      "cell_type": "code",
      "metadata": {
        "colab": {
          "base_uri": "https://localhost:8080/"
        },
        "id": "NF8K3t5b67tV",
        "outputId": "d8a1e183-d1b4-41b4-cdc0-8797a18544f2"
      },
      "source": [
        "# BIAS\n",
        "\n",
        "w0_list = []\n",
        "w1_list = []\n",
        "\n",
        "for j in range(10):\n",
        "  data_1 = data.sample(frac=0.4)\n",
        "\n",
        "  indices = []\n",
        "\n",
        "  for i in data_1.index:\n",
        "    indices.append(i)\n",
        "\n",
        "  x = [[1,data_1['comp_GPA'][indices[0]]]]\n",
        "\n",
        "  for i in range(1,len(indices)):\n",
        "    x.append([1,data_1['comp_GPA'][indices[i]]])\n",
        "\n",
        "  x = np.array(x)\n",
        "  x = np.asmatrix(x)\n",
        "\n",
        "  xT = np.matrix.transpose(x)\n",
        "\n",
        "  y = np.matrix(np.array(data_1['univ_GPA']))\n",
        "  y = np.matrix.transpose(y)\n",
        "\n",
        "  a = xT @ y\n",
        "  b = np.linalg.inv((xT@x))\n",
        "  w = b @ a\n",
        "  w0 = w.item(0)\n",
        "  w1 = w.item(1)\n",
        "\n",
        "  w0_list.append(w0)\n",
        "  w1_list.append(w1)\n",
        "\n",
        "print(w0_list)\n",
        "print(w1_list)"
      ],
      "execution_count": null,
      "outputs": [
        {
          "output_type": "stream",
          "text": [
            "[0.5601293909231215, 0.4720039088179226, 0.8039168591618092, 0.5846026814871026, 0.5440370937989495, 0.5812749379351209, 0.3645300997900905, 0.8125105564239672, 0.6546307800736124, 0.6760362696054157]\n",
            "[0.8305314694896735, 0.8614138384809379, 0.7599991967538957, 0.8224253959678093, 0.8446130418941191, 0.8291451210952784, 0.893626437697453, 0.7632208080949405, 0.8105543934514602, 0.7981648581504998]\n"
          ],
          "name": "stdout"
        }
      ]
    },
    {
      "cell_type": "code",
      "metadata": {
        "colab": {
          "base_uri": "https://localhost:8080/"
        },
        "id": "8lKrhBIH7JCD",
        "outputId": "022353d8-0d4a-4805-e391-8bac48c3a350"
      },
      "source": [
        "estimated_w0 = 0\n",
        "estimated_w1 = 0\n",
        "\n",
        "for i in range(len(w0_list)):\n",
        "  estimated_w0 += w0_list[i]\n",
        "  estimated_w1 += w1_list[i]\n",
        "\n",
        "estimated_w0 = estimated_w0 / len(w0_list)\n",
        "estimated_w1 = estimated_w1 / len(w1_list)\n",
        "\n",
        "bias_w0 = estimated_w0 - beta_w0\n",
        "bias_w1 = estimated_w1 - beta_w1\n",
        "\n",
        "print(\"Bias w0,w1 : \", bias_w0, \"\\t\", bias_w1)"
      ],
      "execution_count": null,
      "outputs": [
        {
          "output_type": "stream",
          "text": [
            "Bias w0,w1 :  -0.0962689620474525 \t 0.027884984379602074\n"
          ],
          "name": "stdout"
        }
      ]
    },
    {
      "cell_type": "markdown",
      "metadata": {
        "id": "cuYCx6DZaAQ9"
      },
      "source": [
        "# **MODEL - 3 (math_SAT)**"
      ]
    },
    {
      "cell_type": "code",
      "metadata": {
        "id": "eEOAybDxBFjK"
      },
      "source": [
        "from sklearn.model_selection import train_test_split\n",
        "\n",
        "x_train, x_test, y_train, y_test = train_test_split(data['math_SAT'], data['univ_GPA'], test_size=0.3, random_state = 42)"
      ],
      "execution_count": null,
      "outputs": []
    },
    {
      "cell_type": "code",
      "metadata": {
        "colab": {
          "base_uri": "https://localhost:8080/"
        },
        "id": "p3LaV0MYaCwW",
        "outputId": "823e397e-8196-4e32-efc5-83558adfe692"
      },
      "source": [
        "indices = []\n",
        "\n",
        "for i in x_train.index:\n",
        "  indices.append(i)\n",
        "\n",
        "  x = [[1,x_train[indices[0]]]]\n",
        "\n",
        "  for i in range(1,len(indices)):\n",
        "    x.append([1,x_train[indices[i]]])\n",
        "\n",
        "x = np.array(x)\n",
        "x = np.asmatrix(x)\n",
        "x.shape"
      ],
      "execution_count": null,
      "outputs": [
        {
          "output_type": "execute_result",
          "data": {
            "text/plain": [
              "(73, 2)"
            ]
          },
          "metadata": {
            "tags": []
          },
          "execution_count": 168
        }
      ]
    },
    {
      "cell_type": "code",
      "metadata": {
        "colab": {
          "base_uri": "https://localhost:8080/"
        },
        "id": "yRRlgz5faTLr",
        "outputId": "0d089ede-7925-410a-fe1c-d516097e1cec"
      },
      "source": [
        "xT = np.matrix.transpose(x)\n",
        "xT.shape"
      ],
      "execution_count": null,
      "outputs": [
        {
          "output_type": "execute_result",
          "data": {
            "text/plain": [
              "(2, 73)"
            ]
          },
          "metadata": {
            "tags": []
          },
          "execution_count": 169
        }
      ]
    },
    {
      "cell_type": "code",
      "metadata": {
        "colab": {
          "base_uri": "https://localhost:8080/"
        },
        "id": "q2SOcrEhaWt8",
        "outputId": "4e2e5a2e-61bb-4fa7-a0ff-f5ea850b417b"
      },
      "source": [
        "y = np.matrix(np.array(y_train))\n",
        "y = np.matrix.transpose(y)\n",
        "y.shape"
      ],
      "execution_count": null,
      "outputs": [
        {
          "output_type": "execute_result",
          "data": {
            "text/plain": [
              "(73, 1)"
            ]
          },
          "metadata": {
            "tags": []
          },
          "execution_count": 170
        }
      ]
    },
    {
      "cell_type": "code",
      "metadata": {
        "colab": {
          "base_uri": "https://localhost:8080/"
        },
        "id": "gMi5elQGaZrN",
        "outputId": "79a4b27e-0c49-40bd-a058-714421d55c43"
      },
      "source": [
        "a = xT @ y\n",
        "b = np.linalg.inv((xT@x))\n",
        "w = b @ a\n",
        "w0 = w.item(0)\n",
        "w1 = w.item(1)\n",
        "\n",
        "#For bias calculation\n",
        "beta_w0 = w0  \n",
        "beta_w1 = w1\n",
        "\n",
        "print(\"W0: \",w0)\n",
        "print(\"W1: \",w1)"
      ],
      "execution_count": null,
      "outputs": [
        {
          "output_type": "stream",
          "text": [
            "W0:  -0.17168343377969747\n",
            "W1:  0.005361263179301024\n"
          ],
          "name": "stdout"
        }
      ]
    },
    {
      "cell_type": "code",
      "metadata": {
        "colab": {
          "base_uri": "https://localhost:8080/"
        },
        "id": "S6ovA2HPadgf",
        "outputId": "d8c9495d-5834-4af5-8f7c-3e5c5dd06411"
      },
      "source": [
        "y_predicted = []\n",
        "\n",
        "for i in x_test.index:\n",
        "  y_predicted.append(lin_model(w1,w0,x_test[i]))\n",
        "\n",
        "y_predicted"
      ],
      "execution_count": null,
      "outputs": [
        {
          "output_type": "execute_result",
          "data": {
            "text/plain": [
              "[3.5865620549103205,\n",
              " 3.404279106814086,\n",
              " 3.5329494231173104,\n",
              " 2.79845636755307,\n",
              " 2.9056816311390907,\n",
              " 3.1469384742076367,\n",
              " 2.5947283667396315,\n",
              " 3.0826033160560247,\n",
              " 3.4954205808622034,\n",
              " 3.2756087905108613,\n",
              " 2.8520689993460806,\n",
              " 3.5329494231173104,\n",
              " 3.0933258424146266,\n",
              " 2.8520689993460806,\n",
              " 2.79845636755307,\n",
              " 3.002184368366509,\n",
              " 2.8895978416011876,\n",
              " 3.5222268967587085,\n",
              " 3.0665195265181215,\n",
              " 2.937849210214897,\n",
              " 2.8735140520632845,\n",
              " 2.9056816311390907,\n",
              " 3.0826033160560247,\n",
              " 2.8520689993460806,\n",
              " 3.0665195265181215,\n",
              " 3.2648862641522594,\n",
              " 3.4900593176829022,\n",
              " 3.0665195265181215,\n",
              " 3.0826033160560247,\n",
              " 3.136215947849035,\n",
              " 3.3184988959452695,\n",
              " 2.8735140520632845]"
            ]
          },
          "metadata": {
            "tags": []
          },
          "execution_count": 172
        }
      ]
    },
    {
      "cell_type": "code",
      "metadata": {
        "id": "rDI56UdNCNT3"
      },
      "source": [
        "y_target = list(y_test)"
      ],
      "execution_count": null,
      "outputs": []
    },
    {
      "cell_type": "code",
      "metadata": {
        "colab": {
          "base_uri": "https://localhost:8080/"
        },
        "id": "fG5NHVUaCM83",
        "outputId": "f826a499-6ef3-41fe-980c-287de4cd3b6a"
      },
      "source": [
        "mean = y_test.mean()\n",
        "mean"
      ],
      "execution_count": null,
      "outputs": [
        {
          "output_type": "execute_result",
          "data": {
            "text/plain": [
              "3.1190625000000005"
            ]
          },
          "metadata": {
            "tags": []
          },
          "execution_count": 174
        }
      ]
    },
    {
      "cell_type": "code",
      "metadata": {
        "colab": {
          "base_uri": "https://localhost:8080/"
        },
        "id": "I3iuupqXaj4j",
        "outputId": "d58a274b-983f-41fa-cd88-ca87de303994"
      },
      "source": [
        "print(\"SST: \",SST(y_target,mean))\n",
        "print(\"SSE: \",SSE(y_target,y_predicted))\n",
        "print(\"SSR: \",SSR(y_target,y_predicted,mean))\n",
        "print(\"MSE: \",MSE(y_target,y_predicted))\n",
        "print(\"RMSE: \",RMSE(y_target,y_predicted))\n",
        "print(\"R2: \",R2(y_target,y_predicted,mean))\n",
        "print(\"Correlation: \",np.corrcoef(data['math_SAT'],data['univ_GPA']))"
      ],
      "execution_count": null,
      "outputs": [
        {
          "output_type": "stream",
          "text": [
            "SST:  6.924471875\n",
            "SSE:  4.203252639674077\n",
            "SSR:  2.721219235325923\n",
            "MSE:  0.13135164498981491\n",
            "RMSE:  0.36242467491854763\n",
            "R2:  0.39298581674518285\n",
            "Correlation:  [[1.         0.66278369]\n",
            " [0.66278369 1.        ]]\n"
          ],
          "name": "stdout"
        }
      ]
    },
    {
      "cell_type": "markdown",
      "metadata": {
        "id": "cLnE5ksagFHo"
      },
      "source": [
        "**Observation** : Since R2 is 0.39, it is not a good model"
      ]
    },
    {
      "cell_type": "code",
      "metadata": {
        "colab": {
          "base_uri": "https://localhost:8080/",
          "height": 282
        },
        "id": "Ms1xhdAnaoDr",
        "outputId": "ff00bdc0-8761-48a4-b314-b6589db65274"
      },
      "source": [
        "plt.scatter(data['math_SAT'],data['univ_GPA'])\n",
        "plt.plot(data['math_SAT'],w0+w1*data['math_SAT'],color=\"r\")"
      ],
      "execution_count": null,
      "outputs": [
        {
          "output_type": "execute_result",
          "data": {
            "text/plain": [
              "[<matplotlib.lines.Line2D at 0x7f5308365940>]"
            ]
          },
          "metadata": {
            "tags": []
          },
          "execution_count": 176
        },
        {
          "output_type": "display_data",
          "data": {
            "image/png": "[encoded data removed]",
            "text/plain": [
              "<Figure size 432x288 with 1 Axes>"
            ]
          },
          "metadata": {
            "tags": [],
            "needs_background": "light"
          }
        }
      ]
    },
    {
      "cell_type": "markdown",
      "metadata": {
        "id": "iPSOp5W4EJM7"
      },
      "source": [
        "**Observation** : This seems to be heteroscedastic in nature"
      ]
    },
    {
      "cell_type": "code",
      "metadata": {
        "colab": {
          "base_uri": "https://localhost:8080/"
        },
        "id": "MZ1YmWa86iJv",
        "outputId": "8f611720-99ee-45ce-d4c3-47763cca556c"
      },
      "source": [
        "# BIAS\n",
        "\n",
        "w0_list = []\n",
        "w1_list = []\n",
        "\n",
        "for j in range(10):\n",
        "  data_1 = data.sample(frac=0.4)\n",
        "\n",
        "  indices = []\n",
        "\n",
        "  for i in data_1.index:\n",
        "    indices.append(i)\n",
        "\n",
        "  x = [[1,data_1['math_SAT'][indices[0]]]]\n",
        "\n",
        "  for i in range(1,len(indices)):\n",
        "    x.append([1,data_1['math_SAT'][indices[i]]])\n",
        "\n",
        "  x = np.array(x)\n",
        "  x = np.asmatrix(x)\n",
        "\n",
        "  xT = np.matrix.transpose(x)\n",
        "\n",
        "  y = np.matrix(np.array(data_1['univ_GPA']))\n",
        "  y = np.matrix.transpose(y)\n",
        "\n",
        "  a = xT @ y\n",
        "  b = np.linalg.inv((xT@x))\n",
        "  w = b @ a\n",
        "  w0 = w.item(0)\n",
        "  w1 = w.item(1)\n",
        "\n",
        "  w0_list.append(w0)\n",
        "  w1_list.append(w1)\n",
        "\n",
        "print(w0_list)\n",
        "print(w1_list)"
      ],
      "execution_count": null,
      "outputs": [
        {
          "output_type": "stream",
          "text": [
            "[0.2850149493943771, 0.5815275543478529, 0.9984810015521122, 1.0443893021351356, -0.14356539788833067, 0.31702796823620044, 0.5927536563169398, 0.57452566390871, 0.6619686230679799, 0.37446607387986947]\n",
            "[0.004793253450290006, 0.00428284439734007, 0.0036861792962564355, 0.0036171759043494003, 0.005527537327905597, 0.004809781048541463, 0.004329388060370243, 0.004324128564134582, 0.004189093842154752, 0.004673587828960696]\n"
          ],
          "name": "stdout"
        }
      ]
    },
    {
      "cell_type": "code",
      "metadata": {
        "colab": {
          "base_uri": "https://localhost:8080/"
        },
        "id": "HKe72ERG6nRi",
        "outputId": "6e6ec8b3-752f-41eb-a8b6-a38147cde3f5"
      },
      "source": [
        "estimated_w0 = 0\n",
        "estimated_w1 = 0\n",
        "\n",
        "for i in range(len(w0_list)):\n",
        "  estimated_w0 += w0_list[i]\n",
        "  estimated_w1 += w1_list[i]\n",
        "\n",
        "estimated_w0 = estimated_w0 / len(w0_list)\n",
        "estimated_w1 = estimated_w1 / len(w1_list)\n",
        "\n",
        "bias_w0 = estimated_w0 - beta_w0\n",
        "bias_w1 = estimated_w1 - beta_w1\n",
        "\n",
        "print(\"Bias w0,w1 : \", bias_w0, \"\\t\", bias_w1)"
      ],
      "execution_count": null,
      "outputs": [
        {
          "output_type": "stream",
          "text": [
            "Bias w0,w1 :  0.7770506915814088 \t 0.8160081929283055\n"
          ],
          "name": "stdout"
        }
      ]
    },
    {
      "cell_type": "markdown",
      "metadata": {
        "id": "oqinqT5Rasoi"
      },
      "source": [
        "# **MODEL - 4 (verb_SAT)**"
      ]
    },
    {
      "cell_type": "code",
      "metadata": {
        "id": "iViQp4aIBHR0"
      },
      "source": [
        "from sklearn.model_selection import train_test_split\n",
        "\n",
        "x_train, x_test, y_train, y_test = train_test_split(data['verb_SAT'], data['univ_GPA'], test_size=0.3, random_state = 42)"
      ],
      "execution_count": null,
      "outputs": []
    },
    {
      "cell_type": "code",
      "metadata": {
        "colab": {
          "base_uri": "https://localhost:8080/"
        },
        "id": "UxbaBRXiaz8d",
        "outputId": "71494239-9c2f-40de-c97e-0e5d07b33c7a"
      },
      "source": [
        "indices = []\n",
        "\n",
        "for i in x_train.index:\n",
        "  indices.append(i)\n",
        "\n",
        "  x = [[1,x_train[indices[0]]]]\n",
        "\n",
        "  for i in range(1,len(indices)):\n",
        "    x.append([1,x_train[indices[i]]])\n",
        "\n",
        "x = np.array(x)\n",
        "x = np.asmatrix(x)\n",
        "x.shape"
      ],
      "execution_count": null,
      "outputs": [
        {
          "output_type": "execute_result",
          "data": {
            "text/plain": [
              "(73, 2)"
            ]
          },
          "metadata": {
            "tags": []
          },
          "execution_count": 179
        }
      ]
    },
    {
      "cell_type": "code",
      "metadata": {
        "colab": {
          "base_uri": "https://localhost:8080/"
        },
        "id": "KXPRCcNDa8Fw",
        "outputId": "687904ab-0449-49fa-ae1e-c071a893457d"
      },
      "source": [
        "xT = np.matrix.transpose(x)\n",
        "xT.shape"
      ],
      "execution_count": null,
      "outputs": [
        {
          "output_type": "execute_result",
          "data": {
            "text/plain": [
              "(2, 73)"
            ]
          },
          "metadata": {
            "tags": []
          },
          "execution_count": 180
        }
      ]
    },
    {
      "cell_type": "code",
      "metadata": {
        "colab": {
          "base_uri": "https://localhost:8080/"
        },
        "id": "Pg_iuUkfa_Kd",
        "outputId": "66cb5ad0-ff96-4ac6-e313-2008e88bfc9c"
      },
      "source": [
        "y = np.matrix(np.array(y_train))\n",
        "y = np.matrix.transpose(y)\n",
        "y.shape"
      ],
      "execution_count": null,
      "outputs": [
        {
          "output_type": "execute_result",
          "data": {
            "text/plain": [
              "(73, 1)"
            ]
          },
          "metadata": {
            "tags": []
          },
          "execution_count": 181
        }
      ]
    },
    {
      "cell_type": "code",
      "metadata": {
        "colab": {
          "base_uri": "https://localhost:8080/"
        },
        "id": "_MktSZjTbJ2s",
        "outputId": "3db384af-e73f-4b7c-d56f-4ed3f6c6e7e2"
      },
      "source": [
        "a = xT @ y\n",
        "b = np.linalg.inv((xT@x))\n",
        "w = b @ a\n",
        "w0 = w.item(0)\n",
        "w1 = w.item(1)\n",
        "\n",
        "#For bias calculation\n",
        "beta_w0 = w0  \n",
        "beta_w1 = w1\n",
        "\n",
        "\n",
        "print(\"W0: \",w0)\n",
        "print(\"W1: \",w1)"
      ],
      "execution_count": null,
      "outputs": [
        {
          "output_type": "stream",
          "text": [
            "W0:  0.4747167693021786\n",
            "W1:  0.0045129168182652035\n"
          ],
          "name": "stdout"
        }
      ]
    },
    {
      "cell_type": "code",
      "metadata": {
        "colab": {
          "base_uri": "https://localhost:8080/"
        },
        "id": "VIKKYJ3ybM-V",
        "outputId": "8fa8a6be-1648-413e-8638-f729f0eba88e"
      },
      "source": [
        "y_predicted = []\n",
        "\n",
        "for i in x_test.index:\n",
        "  y_predicted.append(lin_model(w1,w0,x_test[i]))\n",
        "\n",
        "y_predicted"
      ],
      "execution_count": null,
      "outputs": [
        {
          "output_type": "execute_result",
          "data": {
            "text/plain": [
              "[3.696939377543534,\n",
              " 3.1057472743507923,\n",
              " 3.385548117083235,\n",
              " 2.9026660175288583,\n",
              " 2.9477951857115103,\n",
              " 3.2862639470814003,\n",
              " 2.8575368493462063,\n",
              " 2.8575368493462063,\n",
              " 3.4035997843562957,\n",
              " 3.1328247752603837,\n",
              " 2.7356880952530456,\n",
              " 3.5615518729955777,\n",
              " 2.9793856034393666,\n",
              " 2.9523081025297753,\n",
              " 2.7717914297991673,\n",
              " 2.9026660175288583,\n",
              " 2.7447139288895763,\n",
              " 3.511909787994661,\n",
              " 3.1012343575325274,\n",
              " 2.9026660175288583,\n",
              " 2.916204767983654,\n",
              " 3.1914926938978314,\n",
              " 3.2682122798083397,\n",
              " 3.141850608896914,\n",
              " 3.2591864461718094,\n",
              " 3.2185701948074223,\n",
              " 3.3720093666284394,\n",
              " 3.1057472743507923,\n",
              " 3.2907768638996657,\n",
              " 3.141850608896914,\n",
              " 3.362983532991909,\n",
              " 3.1463635257151794]"
            ]
          },
          "metadata": {
            "tags": []
          },
          "execution_count": 183
        }
      ]
    },
    {
      "cell_type": "code",
      "metadata": {
        "id": "l9m8rlHNCQr6"
      },
      "source": [
        "y_target = list(y_test)"
      ],
      "execution_count": null,
      "outputs": []
    },
    {
      "cell_type": "code",
      "metadata": {
        "colab": {
          "base_uri": "https://localhost:8080/"
        },
        "id": "DgRK44U2CQoP",
        "outputId": "850d661f-4b53-4d49-83c8-69f6c5ee79da"
      },
      "source": [
        "mean = y_test.mean()\n",
        "mean"
      ],
      "execution_count": null,
      "outputs": [
        {
          "output_type": "execute_result",
          "data": {
            "text/plain": [
              "3.1190625000000005"
            ]
          },
          "metadata": {
            "tags": []
          },
          "execution_count": 185
        }
      ]
    },
    {
      "cell_type": "code",
      "metadata": {
        "colab": {
          "base_uri": "https://localhost:8080/"
        },
        "id": "HqJ4UQMHbVWL",
        "outputId": "285567ce-aa97-4c43-9ae9-42bf2e02e86e"
      },
      "source": [
        "print(\"SST: \",SST(y_target,mean))\n",
        "print(\"SSE: \",SSE(y_target,y_predicted))\n",
        "print(\"SSR: \",SSR(y_target,y_predicted,mean))\n",
        "print(\"MSE: \",MSE(y_target,y_predicted))\n",
        "print(\"RMSE: \",RMSE(y_target,y_predicted))\n",
        "print(\"R2: \",R2(y_target,y_predicted,mean))\n",
        "print(\"Correlation: \",np.corrcoef(data['verb_SAT'],data['univ_GPA']))"
      ],
      "execution_count": null,
      "outputs": [
        {
          "output_type": "stream",
          "text": [
            "SST:  6.924471875\n",
            "SSE:  4.690820084775476\n",
            "SSR:  2.233651790224524\n",
            "MSE:  0.14658812764923362\n",
            "RMSE:  0.3828682902111817\n",
            "R2:  0.3225735955819048\n",
            "Correlation:  [[1.         0.65030121]\n",
            " [0.65030121 1.        ]]\n"
          ],
          "name": "stdout"
        }
      ]
    },
    {
      "cell_type": "markdown",
      "metadata": {
        "id": "Hz78ZvkEgJjW"
      },
      "source": [
        "**Observation** : Since R2 is 0.32, it is not a good model"
      ]
    },
    {
      "cell_type": "code",
      "metadata": {
        "colab": {
          "base_uri": "https://localhost:8080/",
          "height": 282
        },
        "id": "WA6IH_SPbaTb",
        "outputId": "f7896d9e-f9f5-4258-95c2-c38e52e0ed59"
      },
      "source": [
        "plt.scatter(data['verb_SAT'],data['univ_GPA'])\n",
        "plt.plot(data['verb_SAT'],w0+w1*data['verb_SAT'],color=\"r\")"
      ],
      "execution_count": null,
      "outputs": [
        {
          "output_type": "execute_result",
          "data": {
            "text/plain": [
              "[<matplotlib.lines.Line2D at 0x7f52f107d0b8>]"
            ]
          },
          "metadata": {
            "tags": []
          },
          "execution_count": 187
        },
        {
          "output_type": "display_data",
          "data": {
            "image/png": "[encoded data removed]",
            "text/plain": [
              "<Figure size 432x288 with 1 Axes>"
            ]
          },
          "metadata": {
            "tags": [],
            "needs_background": "light"
          }
        }
      ]
    },
    {
      "cell_type": "markdown",
      "metadata": {
        "id": "-dEHH3OBERBz"
      },
      "source": [
        "**Observation** : This seems to be homoscedastic in nature"
      ]
    },
    {
      "cell_type": "code",
      "metadata": {
        "colab": {
          "base_uri": "https://localhost:8080/"
        },
        "id": "y_Xyq9gNbv2D",
        "outputId": "9db76b07-41b4-4b15-cbe4-4acdffc27e41"
      },
      "source": [
        "# BIAS\n",
        "\n",
        "w0_list = []\n",
        "w1_list = []\n",
        "\n",
        "for j in range(10):\n",
        "  data_1 = data.sample(frac=0.4)\n",
        "\n",
        "  indices = []\n",
        "\n",
        "  for i in data_1.index:\n",
        "    indices.append(i)\n",
        "\n",
        "  x = [[1,data_1['verb_SAT'][indices[0]]]]\n",
        "\n",
        "  for i in range(1,len(indices)):\n",
        "    x.append([1,data_1['verb_SAT'][indices[i]]])\n",
        "\n",
        "  x = np.array(x)\n",
        "  x = np.asmatrix(x)\n",
        "\n",
        "  xT = np.matrix.transpose(x)\n",
        "\n",
        "  y = np.matrix(np.array(data_1['univ_GPA']))\n",
        "  y = np.matrix.transpose(y)\n",
        "\n",
        "  a = xT @ y\n",
        "  b = np.linalg.inv((xT@x))\n",
        "  w = b @ a\n",
        "  w0 = w.item(0)\n",
        "  w1 = w.item(1)\n",
        "\n",
        "  w0_list.append(w0)\n",
        "  w1_list.append(w1)\n",
        "\n",
        "print(w0_list)\n",
        "print(w1_list)"
      ],
      "execution_count": null,
      "outputs": [
        {
          "output_type": "stream",
          "text": [
            "[-0.39857839460735944, 0.1491963920801708, 1.3366806967068505, 0.45662442139296044, 0.5879185461988916, 0.0037550371586545016, 0.5516297716535545, 0.5190817442458602, 0.21076847112028102, 0.6670238760524576]\n",
            "[0.005889919093239113, 0.0050251833032655905, 0.0031553565193423116, 0.004437498501960694, 0.004336794648086729, 0.005275269168887314, 0.004299126526698635, 0.004357634334147317, 0.004928051443646144, 0.004281381222971857]\n"
          ],
          "name": "stdout"
        }
      ]
    },
    {
      "cell_type": "code",
      "metadata": {
        "colab": {
          "base_uri": "https://localhost:8080/"
        },
        "id": "yQYfGjTGlXRB",
        "outputId": "ee04d403-9f39-4419-998e-58c47d9c99d0"
      },
      "source": [
        "estimated_w0 = 0\n",
        "estimated_w1 = 0\n",
        "\n",
        "for i in range(len(w0_list)):\n",
        "  estimated_w0 += w0_list[i]\n",
        "  estimated_w1 += w1_list[i]\n",
        "\n",
        "estimated_w0 = estimated_w0 / len(w0_list)\n",
        "estimated_w1 = estimated_w1 / len(w1_list)\n",
        "\n",
        "bias_w0 = estimated_w0 - beta_w0\n",
        "bias_w1 = estimated_w1 - beta_w1\n",
        "\n",
        "print(\"Bias w0,w1 : \", bias_w0, \"\\t\", bias_w1)"
      ],
      "execution_count": null,
      "outputs": [
        {
          "output_type": "stream",
          "text": [
            "Bias w0,w1 :  -0.06630671310194647 \t 8.570465795936736e-05\n"
          ],
          "name": "stdout"
        }
      ]
    },
    {
      "cell_type": "markdown",
      "metadata": {
        "id": "QvRLrtoLkU3W"
      },
      "source": [
        "# **ANOVA TEST**"
      ]
    },
    {
      "cell_type": "code",
      "metadata": {
        "colab": {
          "base_uri": "https://localhost:8080/",
          "height": 136
        },
        "id": "DxGguDOqzHyq",
        "outputId": "4d52d919-82dd-4937-e885-492f0bfd4607"
      },
      "source": [
        "import statsmodels.api as sm\n",
        "from statsmodels.formula.api import ols\n",
        "\n",
        "#perform two-way ANOV\n",
        "model = ols('univ_GPA ~ C(high_GPA) + C(comp_GPA)', data=data).fit()\n",
        "sm.stats.anova_lm(model, typ=2)"
      ],
      "execution_count": null,
      "outputs": [
        {
          "output_type": "execute_result",
          "data": {
            "text/html": [
              "<div>\n",
              "<style scoped>\n",
              "    .dataframe tbody tr th:only-of-type {\n",
              "        vertical-align: middle;\n",
              "    }\n",
              "\n",
              "    .dataframe tbody tr th {\n",
              "        vertical-align: top;\n",
              "    }\n",
              "\n",
              "    .dataframe thead th {\n",
              "        text-align: right;\n",
              "    }\n",
              "</style>\n",
              "<table border=\"1\" class=\"dataframe\">\n",
              "  <thead>\n",
              "    <tr style=\"text-align: right;\">\n",
              "      <th></th>\n",
              "      <th>sum_sq</th>\n",
              "      <th>df</th>\n",
              "      <th>F</th>\n",
              "      <th>PR(&gt;F)</th>\n",
              "    </tr>\n",
              "  </thead>\n",
              "  <tbody>\n",
              "    <tr>\n",
              "      <th>C(high_GPA)</th>\n",
              "      <td>27.225893</td>\n",
              "      <td>74.0</td>\n",
              "      <td>21.417621</td>\n",
              "      <td>0.045589</td>\n",
              "    </tr>\n",
              "    <tr>\n",
              "      <th>C(comp_GPA)</th>\n",
              "      <td>31.709115</td>\n",
              "      <td>66.0</td>\n",
              "      <td>27.967973</td>\n",
              "      <td>0.035105</td>\n",
              "    </tr>\n",
              "    <tr>\n",
              "      <th>Residual</th>\n",
              "      <td>0.034357</td>\n",
              "      <td>2.0</td>\n",
              "      <td>NaN</td>\n",
              "      <td>NaN</td>\n",
              "    </tr>\n",
              "  </tbody>\n",
              "</table>\n",
              "</div>"
            ],
            "text/plain": [
              "                sum_sq    df          F    PR(>F)\n",
              "C(high_GPA)  27.225893  74.0  21.417621  0.045589\n",
              "C(comp_GPA)  31.709115  66.0  27.967973  0.035105\n",
              "Residual      0.034357   2.0        NaN       NaN"
            ]
          },
          "metadata": {
            "tags": []
          },
          "execution_count": 129
        }
      ]
    },
    {
      "cell_type": "code",
      "metadata": {
        "colab": {
          "base_uri": "https://localhost:8080/",
          "height": 136
        },
        "id": "TN9qvZEU2MAn",
        "outputId": "8e3de452-609e-4e99-ece0-e4c8230dd5dc"
      },
      "source": [
        "model_1 = ols('univ_GPA ~ C(math_SAT) + C(verb_SAT)', data=data).fit()\n",
        "sm.stats.anova_lm(model_1, typ=2)"
      ],
      "execution_count": null,
      "outputs": [
        {
          "output_type": "execute_result",
          "data": {
            "text/html": [
              "<div>\n",
              "<style scoped>\n",
              "    .dataframe tbody tr th:only-of-type {\n",
              "        vertical-align: middle;\n",
              "    }\n",
              "\n",
              "    .dataframe tbody tr th {\n",
              "        vertical-align: top;\n",
              "    }\n",
              "\n",
              "    .dataframe thead th {\n",
              "        text-align: right;\n",
              "    }\n",
              "</style>\n",
              "<table border=\"1\" class=\"dataframe\">\n",
              "  <thead>\n",
              "    <tr style=\"text-align: right;\">\n",
              "      <th></th>\n",
              "      <th>sum_sq</th>\n",
              "      <th>df</th>\n",
              "      <th>F</th>\n",
              "      <th>PR(&gt;F)</th>\n",
              "    </tr>\n",
              "  </thead>\n",
              "  <tbody>\n",
              "    <tr>\n",
              "      <th>C(math_SAT)</th>\n",
              "      <td>9.736729</td>\n",
              "      <td>58.0</td>\n",
              "      <td>7.262061</td>\n",
              "      <td>0.062907</td>\n",
              "    </tr>\n",
              "    <tr>\n",
              "      <th>C(verb_SAT)</th>\n",
              "      <td>16.170766</td>\n",
              "      <td>66.0</td>\n",
              "      <td>10.598916</td>\n",
              "      <td>0.037096</td>\n",
              "    </tr>\n",
              "    <tr>\n",
              "      <th>Residual</th>\n",
              "      <td>0.069350</td>\n",
              "      <td>3.0</td>\n",
              "      <td>NaN</td>\n",
              "      <td>NaN</td>\n",
              "    </tr>\n",
              "  </tbody>\n",
              "</table>\n",
              "</div>"
            ],
            "text/plain": [
              "                sum_sq    df          F    PR(>F)\n",
              "C(math_SAT)   9.736729  58.0   7.262061  0.062907\n",
              "C(verb_SAT)  16.170766  66.0  10.598916  0.037096\n",
              "Residual      0.069350   3.0        NaN       NaN"
            ]
          },
          "metadata": {
            "tags": []
          },
          "execution_count": 130
        }
      ]
    }
  ]
}