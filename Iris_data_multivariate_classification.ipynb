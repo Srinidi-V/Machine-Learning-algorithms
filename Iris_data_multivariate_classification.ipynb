{
  "nbformat": 4,
  "nbformat_minor": 0,
  "metadata": {
    "colab": {
      "name": "Iris data multivariate classification.ipynb",
      "provenance": [],
      "mount_file_id": "1KpY21Ns4nWoCzM3PrLEFKCXVLNSwIln2",
      "authorship_tag": "ABX9TyMHKfdv2lWbHh2KrJPzdGbj",
      "include_colab_link": true
    },
    "kernelspec": {
      "name": "python3",
      "display_name": "Python 3"
    }
  },
  "cells": [
    {
      "cell_type": "markdown",
      "metadata": {
        "id": "view-in-github",
        "colab_type": "text"
      },
      "source": [
        "<a href=\"https://colab.research.google.com/github/Srinidi-V/Machine-Learning-algorithms/blob/main/Iris_data_multivariate_classification.ipynb\" target=\"_parent\"><img src=\"https://colab.research.google.com/assets/colab-badge.svg\" alt=\"Open In Colab\"/></a>"
      ]
    },
    {
      "cell_type": "markdown",
      "metadata": {
        "id": "7sS0-vsRRCIA"
      },
      "source": [
        "# **Dataset Acquiring**"
      ]
    },
    {
      "cell_type": "code",
      "metadata": {
        "id": "7zKI1-ucExOn"
      },
      "source": [
        "#Dataset of consideration\n",
        "dataset = '/content/drive/My Drive/Iris.csv'"
      ],
      "execution_count": null,
      "outputs": []
    },
    {
      "cell_type": "code",
      "metadata": {
        "colab": {
          "base_uri": "https://localhost:8080/",
          "height": 195
        },
        "id": "KOr1EotoE5cM",
        "outputId": "2bb0d966-30c3-4e82-c548-ca90c94eed8c"
      },
      "source": [
        "import pandas as pd\n",
        "data = pd.read_csv(dataset)\n",
        "data = data.dropna()\n",
        "data.head()"
      ],
      "execution_count": null,
      "outputs": [
        {
          "output_type": "execute_result",
          "data": {
            "text/html": [
              "<div>\n",
              "<style scoped>\n",
              "    .dataframe tbody tr th:only-of-type {\n",
              "        vertical-align: middle;\n",
              "    }\n",
              "\n",
              "    .dataframe tbody tr th {\n",
              "        vertical-align: top;\n",
              "    }\n",
              "\n",
              "    .dataframe thead th {\n",
              "        text-align: right;\n",
              "    }\n",
              "</style>\n",
              "<table border=\"1\" class=\"dataframe\">\n",
              "  <thead>\n",
              "    <tr style=\"text-align: right;\">\n",
              "      <th></th>\n",
              "      <th>Id</th>\n",
              "      <th>SepalLengthCm</th>\n",
              "      <th>SepalWidthCm</th>\n",
              "      <th>PetalLengthCm</th>\n",
              "      <th>PetalWidthCm</th>\n",
              "      <th>Species</th>\n",
              "    </tr>\n",
              "  </thead>\n",
              "  <tbody>\n",
              "    <tr>\n",
              "      <th>0</th>\n",
              "      <td>1</td>\n",
              "      <td>5.1</td>\n",
              "      <td>3.5</td>\n",
              "      <td>1.4</td>\n",
              "      <td>0.2</td>\n",
              "      <td>Iris-setosa</td>\n",
              "    </tr>\n",
              "    <tr>\n",
              "      <th>1</th>\n",
              "      <td>2</td>\n",
              "      <td>4.9</td>\n",
              "      <td>3.0</td>\n",
              "      <td>1.4</td>\n",
              "      <td>0.2</td>\n",
              "      <td>Iris-setosa</td>\n",
              "    </tr>\n",
              "    <tr>\n",
              "      <th>2</th>\n",
              "      <td>3</td>\n",
              "      <td>4.7</td>\n",
              "      <td>3.2</td>\n",
              "      <td>1.3</td>\n",
              "      <td>0.2</td>\n",
              "      <td>Iris-setosa</td>\n",
              "    </tr>\n",
              "    <tr>\n",
              "      <th>3</th>\n",
              "      <td>4</td>\n",
              "      <td>4.6</td>\n",
              "      <td>3.1</td>\n",
              "      <td>1.5</td>\n",
              "      <td>0.2</td>\n",
              "      <td>Iris-setosa</td>\n",
              "    </tr>\n",
              "    <tr>\n",
              "      <th>4</th>\n",
              "      <td>5</td>\n",
              "      <td>5.0</td>\n",
              "      <td>3.6</td>\n",
              "      <td>1.4</td>\n",
              "      <td>0.2</td>\n",
              "      <td>Iris-setosa</td>\n",
              "    </tr>\n",
              "  </tbody>\n",
              "</table>\n",
              "</div>"
            ],
            "text/plain": [
              "   Id  SepalLengthCm  SepalWidthCm  PetalLengthCm  PetalWidthCm      Species\n",
              "0   1            5.1           3.5            1.4           0.2  Iris-setosa\n",
              "1   2            4.9           3.0            1.4           0.2  Iris-setosa\n",
              "2   3            4.7           3.2            1.3           0.2  Iris-setosa\n",
              "3   4            4.6           3.1            1.5           0.2  Iris-setosa\n",
              "4   5            5.0           3.6            1.4           0.2  Iris-setosa"
            ]
          },
          "metadata": {
            "tags": []
          },
          "execution_count": 57
        }
      ]
    },
    {
      "cell_type": "code",
      "metadata": {
        "colab": {
          "base_uri": "https://localhost:8080/"
        },
        "id": "Corh6TGbGmBD",
        "outputId": "8531cb5f-6e77-4a57-ee17-9c458a9ebf1d"
      },
      "source": [
        "len(data)"
      ],
      "execution_count": null,
      "outputs": [
        {
          "output_type": "execute_result",
          "data": {
            "text/plain": [
              "150"
            ]
          },
          "metadata": {
            "tags": []
          },
          "execution_count": 7
        }
      ]
    },
    {
      "cell_type": "markdown",
      "metadata": {
        "id": "iOrtaCxeRKuq"
      },
      "source": [
        "# **Defining Required Functions**"
      ]
    },
    {
      "cell_type": "code",
      "metadata": {
        "id": "z3cImqK9HIBF"
      },
      "source": [
        "def Variance(x, mean, n):\n",
        "  var = 0\n",
        "  for i in range(n):\n",
        "    var += (x[i] - mean)**2\n",
        "  var = var / n\n",
        "  return var"
      ],
      "execution_count": null,
      "outputs": []
    },
    {
      "cell_type": "code",
      "metadata": {
        "id": "nCV5IcV_IeAj"
      },
      "source": [
        "def Mean(x, n):\n",
        "  mean = 0\n",
        "  for i in range(n):\n",
        "    mean += x[i]\n",
        "  mean = mean / n\n",
        "  return mean"
      ],
      "execution_count": null,
      "outputs": []
    },
    {
      "cell_type": "markdown",
      "metadata": {
        "id": "fJPRn6LLROZC"
      },
      "source": [
        "# **List of features and class labels for future computations**"
      ]
    },
    {
      "cell_type": "code",
      "metadata": {
        "id": "fQM0GiEZI-VG"
      },
      "source": [
        "feature_name = ['SepalLengthCm', 'SepalWidthCm', 'PetalLengthCm', 'PetalWidthCm']\n",
        "class_name = list(data[\"Species\"].unique())"
      ],
      "execution_count": null,
      "outputs": []
    },
    {
      "cell_type": "markdown",
      "metadata": {
        "id": "V-Q8omeXRh-7"
      },
      "source": [
        "# **Calculating mean and covariance matrix for each class**"
      ]
    },
    {
      "cell_type": "code",
      "metadata": {
        "id": "42cYfHTHFH03"
      },
      "source": [
        "import numpy as np\n",
        "\n",
        "def ComputeMeanCovariance(species_name, n):\n",
        "  final_result = {}\n",
        "  mean_vec = []\n",
        "  cov_matrix = np.zeros((n,n))\n",
        "  new_data = data[data.Species == species_name]\n",
        "  for i in range(len(feature_name)):\n",
        "    mean_vec.append((new_data[feature_name[i]].sum()) / len(new_data))\n",
        "  for i in range(4):\n",
        "    cov_matrix[i][i] = Variance(list(new_data[feature_name[i]]), Mean(list(new_data[feature_name[i]]), len(new_data)), len(new_data))\n",
        "  final_result[\"Mean\"] = mean_vec\n",
        "  final_result[\"Covariance\"] = cov_matrix\n",
        "  return final_result"
      ],
      "execution_count": null,
      "outputs": []
    },
    {
      "cell_type": "code",
      "metadata": {
        "colab": {
          "base_uri": "https://localhost:8080/"
        },
        "id": "QwDicxiCJd7e",
        "outputId": "391b21d4-14c0-4408-97d9-eb6a65e80016"
      },
      "source": [
        "mean_and_cov = {}\n",
        "\n",
        "for i in range(len(class_name)):\n",
        "  mean_and_cov[class_name[i]] = ComputeMeanCovariance(class_name[i], len(feature_name))\n",
        "\n",
        "print(mean_and_cov)"
      ],
      "execution_count": null,
      "outputs": [
        {
          "output_type": "stream",
          "text": [
            "{'Iris-setosa': {'Mean': [5.006, 3.418, 1.464, 0.244], 'Covariance': array([[0.121764, 0.      , 0.      , 0.      ],\n",
            "       [0.      , 0.142276, 0.      , 0.      ],\n",
            "       [0.      , 0.      , 0.029504, 0.      ],\n",
            "       [0.      , 0.      , 0.      , 0.011264]])}, 'Iris-versicolor': {'Mean': [5.936, 2.7700000000000005, 4.26, 1.3259999999999998], 'Covariance': array([[0.261104, 0.      , 0.      , 0.      ],\n",
            "       [0.      , 0.0965  , 0.      , 0.      ],\n",
            "       [0.      , 0.      , 0.2164  , 0.      ],\n",
            "       [0.      , 0.      , 0.      , 0.038324]])}, 'Iris-virginica': {'Mean': [6.587999999999998, 2.974, 5.5520000000000005, 2.0260000000000002], 'Covariance': array([[0.396256, 0.      , 0.      , 0.      ],\n",
            "       [0.      , 0.101924, 0.      , 0.      ],\n",
            "       [0.      , 0.      , 0.298496, 0.      ],\n",
            "       [0.      , 0.      , 0.      , 0.073924]])}}\n"
          ],
          "name": "stdout"
        }
      ]
    },
    {
      "cell_type": "markdown",
      "metadata": {
        "id": "lVpdSB7oRpXB"
      },
      "source": [
        "# **Probability computation**"
      ]
    },
    {
      "cell_type": "code",
      "metadata": {
        "id": "28UwPe05NMZo"
      },
      "source": [
        "import math\n",
        "\n",
        "def MahanobisDistance(x, mean, cov):\n",
        "  x = np.array(x)\n",
        "  mean = np.array(mean)\n",
        "  a = x - mean\n",
        "  b = np.linalg.inv(cov)\n",
        "  c = a.transpose()\n",
        "  final = a @ b @ c\n",
        "  return final"
      ],
      "execution_count": null,
      "outputs": []
    },
    {
      "cell_type": "markdown",
      "metadata": {
        "id": "mr_9U3nkRtof"
      },
      "source": [
        "# **Multivariate Naive Bayes Classifier**"
      ]
    },
    {
      "cell_type": "code",
      "metadata": {
        "id": "zp5b-GpkNi0V"
      },
      "source": [
        "def Classifier(x):\n",
        "  prob_values = []\n",
        "  for i in range(len(class_name)):\n",
        "    t = 1 / (((2 * 3.14) ** (len(x) / 2)) * (np.linalg.det(mean_and_cov[class_name[i]]['Covariance']) ** 0.5))\n",
        "    w = t * math.exp(-0.5 * MahanobisDistance(x, mean_and_cov[class_name[i]]['Mean'], mean_and_cov[class_name[i]]['Covariance']))\n",
        "    prob_values.append(w)\n",
        "  max_prob = max(prob_values)\n",
        "  predicted_val = class_name[prob_values.index(max_prob)]\n",
        "  print(\"The given data point belongs to the class \", predicted_val)\n"
      ],
      "execution_count": null,
      "outputs": []
    },
    {
      "cell_type": "markdown",
      "metadata": {
        "id": "27Uqae8xRzi0"
      },
      "source": [
        "# **Sample Tests**"
      ]
    },
    {
      "cell_type": "code",
      "metadata": {
        "colab": {
          "base_uri": "https://localhost:8080/"
        },
        "id": "96nqjSrCPrLR",
        "outputId": "6e3a3a52-64b9-477c-b7ac-5c696b593014"
      },
      "source": [
        "Classifier([6.7,3.0,5.7,2.3])"
      ],
      "execution_count": null,
      "outputs": [
        {
          "output_type": "stream",
          "text": [
            "The given data point belongs to the class  Iris-virginica\n"
          ],
          "name": "stdout"
        }
      ]
    },
    {
      "cell_type": "code",
      "metadata": {
        "colab": {
          "base_uri": "https://localhost:8080/"
        },
        "id": "B6VwOEzDQ1Uc",
        "outputId": "58a88719-e968-483f-a6fc-cc5bb94d6259"
      },
      "source": [
        "Classifier([5,3.6,1.4,0.2])"
      ],
      "execution_count": null,
      "outputs": [
        {
          "output_type": "stream",
          "text": [
            "The given data point belongs to the class  Iris-setosa\n"
          ],
          "name": "stdout"
        }
      ]
    }
  ]
}