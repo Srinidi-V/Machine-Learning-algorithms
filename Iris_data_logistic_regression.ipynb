{
  "nbformat": 4,
  "nbformat_minor": 0,
  "metadata": {
    "colab": {
      "name": "Iris data logistic regression.ipynb",
      "provenance": [],
      "mount_file_id": "1NmQuilP8izliCPIUxyJXnOsvXxDX0mYl",
      "authorship_tag": "ABX9TyPeJLd04+g8x3dsXY0lPXHg",
      "include_colab_link": true
    },
    "kernelspec": {
      "name": "python3",
      "display_name": "Python 3"
    }
  },
  "cells": [
    {
      "cell_type": "markdown",
      "metadata": {
        "id": "view-in-github",
        "colab_type": "text"
      },
      "source": [
        "<a href=\"https://colab.research.google.com/github/Srinidi-V/Machine-Learning-algorithms/blob/main/Iris_data_logistic_regression.ipynb\" target=\"_parent\"><img src=\"https://colab.research.google.com/assets/colab-badge.svg\" alt=\"Open In Colab\"/></a>"
      ]
    },
    {
      "cell_type": "markdown",
      "metadata": {
        "id": "acXxF38XtP9s"
      },
      "source": [
        "# **Dataset Preparation**"
      ]
    },
    {
      "cell_type": "code",
      "metadata": {
        "id": "qdSNmN5UVB0O"
      },
      "source": [
        "#Dataset of consideration\n",
        "dataset = '/content/drive/My Drive/Iris.csv'"
      ],
      "execution_count": null,
      "outputs": []
    },
    {
      "cell_type": "code",
      "metadata": {
        "colab": {
          "base_uri": "https://localhost:8080/"
        },
        "id": "xowepC-aVz1H",
        "outputId": "4d6ef082-80a3-4c7b-a968-798c00118b5d"
      },
      "source": [
        "from google.colab import drive\n",
        "drive.mount('/content/drive')"
      ],
      "execution_count": null,
      "outputs": [
        {
          "output_type": "stream",
          "text": [
            "Drive already mounted at /content/drive; to attempt to forcibly remount, call drive.mount(\"/content/drive\", force_remount=True).\n"
          ],
          "name": "stdout"
        }
      ]
    },
    {
      "cell_type": "code",
      "metadata": {
        "colab": {
          "base_uri": "https://localhost:8080/",
          "height": 195
        },
        "id": "lEMBSNXfV8e0",
        "outputId": "4b8f6003-d64a-4279-a3ba-bc2189b3b5c1"
      },
      "source": [
        "import pandas as pd\n",
        "data = pd.read_csv(dataset)\n",
        "data = data.dropna()\n",
        "data.tail()"
      ],
      "execution_count": null,
      "outputs": [
        {
          "output_type": "execute_result",
          "data": {
            "text/html": [
              "<div>\n",
              "<style scoped>\n",
              "    .dataframe tbody tr th:only-of-type {\n",
              "        vertical-align: middle;\n",
              "    }\n",
              "\n",
              "    .dataframe tbody tr th {\n",
              "        vertical-align: top;\n",
              "    }\n",
              "\n",
              "    .dataframe thead th {\n",
              "        text-align: right;\n",
              "    }\n",
              "</style>\n",
              "<table border=\"1\" class=\"dataframe\">\n",
              "  <thead>\n",
              "    <tr style=\"text-align: right;\">\n",
              "      <th></th>\n",
              "      <th>Id</th>\n",
              "      <th>SepalLengthCm</th>\n",
              "      <th>SepalWidthCm</th>\n",
              "      <th>PetalLengthCm</th>\n",
              "      <th>PetalWidthCm</th>\n",
              "      <th>Species</th>\n",
              "    </tr>\n",
              "  </thead>\n",
              "  <tbody>\n",
              "    <tr>\n",
              "      <th>145</th>\n",
              "      <td>146</td>\n",
              "      <td>6.7</td>\n",
              "      <td>3.0</td>\n",
              "      <td>5.2</td>\n",
              "      <td>2.3</td>\n",
              "      <td>Iris-virginica</td>\n",
              "    </tr>\n",
              "    <tr>\n",
              "      <th>146</th>\n",
              "      <td>147</td>\n",
              "      <td>6.3</td>\n",
              "      <td>2.5</td>\n",
              "      <td>5.0</td>\n",
              "      <td>1.9</td>\n",
              "      <td>Iris-virginica</td>\n",
              "    </tr>\n",
              "    <tr>\n",
              "      <th>147</th>\n",
              "      <td>148</td>\n",
              "      <td>6.5</td>\n",
              "      <td>3.0</td>\n",
              "      <td>5.2</td>\n",
              "      <td>2.0</td>\n",
              "      <td>Iris-virginica</td>\n",
              "    </tr>\n",
              "    <tr>\n",
              "      <th>148</th>\n",
              "      <td>149</td>\n",
              "      <td>6.2</td>\n",
              "      <td>3.4</td>\n",
              "      <td>5.4</td>\n",
              "      <td>2.3</td>\n",
              "      <td>Iris-virginica</td>\n",
              "    </tr>\n",
              "    <tr>\n",
              "      <th>149</th>\n",
              "      <td>150</td>\n",
              "      <td>5.9</td>\n",
              "      <td>3.0</td>\n",
              "      <td>5.1</td>\n",
              "      <td>1.8</td>\n",
              "      <td>Iris-virginica</td>\n",
              "    </tr>\n",
              "  </tbody>\n",
              "</table>\n",
              "</div>"
            ],
            "text/plain": [
              "      Id  SepalLengthCm  ...  PetalWidthCm         Species\n",
              "145  146            6.7  ...           2.3  Iris-virginica\n",
              "146  147            6.3  ...           1.9  Iris-virginica\n",
              "147  148            6.5  ...           2.0  Iris-virginica\n",
              "148  149            6.2  ...           2.3  Iris-virginica\n",
              "149  150            5.9  ...           1.8  Iris-virginica\n",
              "\n",
              "[5 rows x 6 columns]"
            ]
          },
          "metadata": {
            "tags": []
          },
          "execution_count": 136
        }
      ]
    },
    {
      "cell_type": "code",
      "metadata": {
        "colab": {
          "base_uri": "https://localhost:8080/",
          "height": 402
        },
        "id": "01-kXBWvWK6i",
        "outputId": "92a8e941-08bc-477e-ac7e-481d2e8bd920"
      },
      "source": [
        "data = data[data.Species != \"Iris-virginica\"]\n",
        "data"
      ],
      "execution_count": null,
      "outputs": [
        {
          "output_type": "execute_result",
          "data": {
            "text/html": [
              "<div>\n",
              "<style scoped>\n",
              "    .dataframe tbody tr th:only-of-type {\n",
              "        vertical-align: middle;\n",
              "    }\n",
              "\n",
              "    .dataframe tbody tr th {\n",
              "        vertical-align: top;\n",
              "    }\n",
              "\n",
              "    .dataframe thead th {\n",
              "        text-align: right;\n",
              "    }\n",
              "</style>\n",
              "<table border=\"1\" class=\"dataframe\">\n",
              "  <thead>\n",
              "    <tr style=\"text-align: right;\">\n",
              "      <th></th>\n",
              "      <th>Id</th>\n",
              "      <th>SepalLengthCm</th>\n",
              "      <th>SepalWidthCm</th>\n",
              "      <th>PetalLengthCm</th>\n",
              "      <th>PetalWidthCm</th>\n",
              "      <th>Species</th>\n",
              "    </tr>\n",
              "  </thead>\n",
              "  <tbody>\n",
              "    <tr>\n",
              "      <th>0</th>\n",
              "      <td>1</td>\n",
              "      <td>5.1</td>\n",
              "      <td>3.5</td>\n",
              "      <td>1.4</td>\n",
              "      <td>0.2</td>\n",
              "      <td>Iris-setosa</td>\n",
              "    </tr>\n",
              "    <tr>\n",
              "      <th>1</th>\n",
              "      <td>2</td>\n",
              "      <td>4.9</td>\n",
              "      <td>3.0</td>\n",
              "      <td>1.4</td>\n",
              "      <td>0.2</td>\n",
              "      <td>Iris-setosa</td>\n",
              "    </tr>\n",
              "    <tr>\n",
              "      <th>2</th>\n",
              "      <td>3</td>\n",
              "      <td>4.7</td>\n",
              "      <td>3.2</td>\n",
              "      <td>1.3</td>\n",
              "      <td>0.2</td>\n",
              "      <td>Iris-setosa</td>\n",
              "    </tr>\n",
              "    <tr>\n",
              "      <th>3</th>\n",
              "      <td>4</td>\n",
              "      <td>4.6</td>\n",
              "      <td>3.1</td>\n",
              "      <td>1.5</td>\n",
              "      <td>0.2</td>\n",
              "      <td>Iris-setosa</td>\n",
              "    </tr>\n",
              "    <tr>\n",
              "      <th>4</th>\n",
              "      <td>5</td>\n",
              "      <td>5.0</td>\n",
              "      <td>3.6</td>\n",
              "      <td>1.4</td>\n",
              "      <td>0.2</td>\n",
              "      <td>Iris-setosa</td>\n",
              "    </tr>\n",
              "    <tr>\n",
              "      <th>...</th>\n",
              "      <td>...</td>\n",
              "      <td>...</td>\n",
              "      <td>...</td>\n",
              "      <td>...</td>\n",
              "      <td>...</td>\n",
              "      <td>...</td>\n",
              "    </tr>\n",
              "    <tr>\n",
              "      <th>95</th>\n",
              "      <td>96</td>\n",
              "      <td>5.7</td>\n",
              "      <td>3.0</td>\n",
              "      <td>4.2</td>\n",
              "      <td>1.2</td>\n",
              "      <td>Iris-versicolor</td>\n",
              "    </tr>\n",
              "    <tr>\n",
              "      <th>96</th>\n",
              "      <td>97</td>\n",
              "      <td>5.7</td>\n",
              "      <td>2.9</td>\n",
              "      <td>4.2</td>\n",
              "      <td>1.3</td>\n",
              "      <td>Iris-versicolor</td>\n",
              "    </tr>\n",
              "    <tr>\n",
              "      <th>97</th>\n",
              "      <td>98</td>\n",
              "      <td>6.2</td>\n",
              "      <td>2.9</td>\n",
              "      <td>4.3</td>\n",
              "      <td>1.3</td>\n",
              "      <td>Iris-versicolor</td>\n",
              "    </tr>\n",
              "    <tr>\n",
              "      <th>98</th>\n",
              "      <td>99</td>\n",
              "      <td>5.1</td>\n",
              "      <td>2.5</td>\n",
              "      <td>3.0</td>\n",
              "      <td>1.1</td>\n",
              "      <td>Iris-versicolor</td>\n",
              "    </tr>\n",
              "    <tr>\n",
              "      <th>99</th>\n",
              "      <td>100</td>\n",
              "      <td>5.7</td>\n",
              "      <td>2.8</td>\n",
              "      <td>4.1</td>\n",
              "      <td>1.3</td>\n",
              "      <td>Iris-versicolor</td>\n",
              "    </tr>\n",
              "  </tbody>\n",
              "</table>\n",
              "<p>100 rows × 6 columns</p>\n",
              "</div>"
            ],
            "text/plain": [
              "     Id  SepalLengthCm  ...  PetalWidthCm          Species\n",
              "0     1            5.1  ...           0.2      Iris-setosa\n",
              "1     2            4.9  ...           0.2      Iris-setosa\n",
              "2     3            4.7  ...           0.2      Iris-setosa\n",
              "3     4            4.6  ...           0.2      Iris-setosa\n",
              "4     5            5.0  ...           0.2      Iris-setosa\n",
              "..  ...            ...  ...           ...              ...\n",
              "95   96            5.7  ...           1.2  Iris-versicolor\n",
              "96   97            5.7  ...           1.3  Iris-versicolor\n",
              "97   98            6.2  ...           1.3  Iris-versicolor\n",
              "98   99            5.1  ...           1.1  Iris-versicolor\n",
              "99  100            5.7  ...           1.3  Iris-versicolor\n",
              "\n",
              "[100 rows x 6 columns]"
            ]
          },
          "metadata": {
            "tags": []
          },
          "execution_count": 137
        }
      ]
    },
    {
      "cell_type": "code",
      "metadata": {
        "id": "wXHvTw3-4Rpq"
      },
      "source": [
        "data1 = data"
      ],
      "execution_count": null,
      "outputs": []
    },
    {
      "cell_type": "code",
      "metadata": {
        "colab": {
          "base_uri": "https://localhost:8080/"
        },
        "id": "miDJnOfjdCt-",
        "outputId": "2b773831-c26c-490a-f15f-54a1c3734b5c"
      },
      "source": [
        "test_data = data1['Species']\n",
        "train_data = data1.drop('Species',axis=1)\n",
        "\n",
        "print(train_data)"
      ],
      "execution_count": null,
      "outputs": [
        {
          "output_type": "stream",
          "text": [
            "     Id  SepalLengthCm  SepalWidthCm  PetalLengthCm  PetalWidthCm\n",
            "0     1            5.1           3.5            1.4           0.2\n",
            "1     2            4.9           3.0            1.4           0.2\n",
            "2     3            4.7           3.2            1.3           0.2\n",
            "3     4            4.6           3.1            1.5           0.2\n",
            "4     5            5.0           3.6            1.4           0.2\n",
            "..  ...            ...           ...            ...           ...\n",
            "95   96            5.7           3.0            4.2           1.2\n",
            "96   97            5.7           2.9            4.2           1.3\n",
            "97   98            6.2           2.9            4.3           1.3\n",
            "98   99            5.1           2.5            3.0           1.1\n",
            "99  100            5.7           2.8            4.1           1.3\n",
            "\n",
            "[100 rows x 5 columns]\n"
          ],
          "name": "stdout"
        }
      ]
    },
    {
      "cell_type": "code",
      "metadata": {
        "id": "8wZ0yEglaHcP"
      },
      "source": [
        "from sklearn.model_selection import train_test_split\n",
        "\n",
        "x_train, x_test, y_train, y_test = train_test_split(train_data, test_data, test_size=0.2, random_state = 42)"
      ],
      "execution_count": null,
      "outputs": []
    },
    {
      "cell_type": "code",
      "metadata": {
        "colab": {
          "base_uri": "https://localhost:8080/",
          "height": 402
        },
        "id": "pYznCK5nQ7M6",
        "outputId": "65238d38-59ce-44d6-a558-71fc0c5fcd1a"
      },
      "source": [
        "x_train"
      ],
      "execution_count": null,
      "outputs": [
        {
          "output_type": "execute_result",
          "data": {
            "text/html": [
              "<div>\n",
              "<style scoped>\n",
              "    .dataframe tbody tr th:only-of-type {\n",
              "        vertical-align: middle;\n",
              "    }\n",
              "\n",
              "    .dataframe tbody tr th {\n",
              "        vertical-align: top;\n",
              "    }\n",
              "\n",
              "    .dataframe thead th {\n",
              "        text-align: right;\n",
              "    }\n",
              "</style>\n",
              "<table border=\"1\" class=\"dataframe\">\n",
              "  <thead>\n",
              "    <tr style=\"text-align: right;\">\n",
              "      <th></th>\n",
              "      <th>Id</th>\n",
              "      <th>SepalLengthCm</th>\n",
              "      <th>SepalWidthCm</th>\n",
              "      <th>PetalLengthCm</th>\n",
              "      <th>PetalWidthCm</th>\n",
              "    </tr>\n",
              "  </thead>\n",
              "  <tbody>\n",
              "    <tr>\n",
              "      <th>55</th>\n",
              "      <td>56</td>\n",
              "      <td>5.7</td>\n",
              "      <td>2.8</td>\n",
              "      <td>4.5</td>\n",
              "      <td>1.3</td>\n",
              "    </tr>\n",
              "    <tr>\n",
              "      <th>88</th>\n",
              "      <td>89</td>\n",
              "      <td>5.6</td>\n",
              "      <td>3.0</td>\n",
              "      <td>4.1</td>\n",
              "      <td>1.3</td>\n",
              "    </tr>\n",
              "    <tr>\n",
              "      <th>26</th>\n",
              "      <td>27</td>\n",
              "      <td>5.0</td>\n",
              "      <td>3.4</td>\n",
              "      <td>1.6</td>\n",
              "      <td>0.4</td>\n",
              "    </tr>\n",
              "    <tr>\n",
              "      <th>42</th>\n",
              "      <td>43</td>\n",
              "      <td>4.4</td>\n",
              "      <td>3.2</td>\n",
              "      <td>1.3</td>\n",
              "      <td>0.2</td>\n",
              "    </tr>\n",
              "    <tr>\n",
              "      <th>69</th>\n",
              "      <td>70</td>\n",
              "      <td>5.6</td>\n",
              "      <td>2.5</td>\n",
              "      <td>3.9</td>\n",
              "      <td>1.1</td>\n",
              "    </tr>\n",
              "    <tr>\n",
              "      <th>...</th>\n",
              "      <td>...</td>\n",
              "      <td>...</td>\n",
              "      <td>...</td>\n",
              "      <td>...</td>\n",
              "      <td>...</td>\n",
              "    </tr>\n",
              "    <tr>\n",
              "      <th>60</th>\n",
              "      <td>61</td>\n",
              "      <td>5.0</td>\n",
              "      <td>2.0</td>\n",
              "      <td>3.5</td>\n",
              "      <td>1.0</td>\n",
              "    </tr>\n",
              "    <tr>\n",
              "      <th>71</th>\n",
              "      <td>72</td>\n",
              "      <td>6.1</td>\n",
              "      <td>2.8</td>\n",
              "      <td>4.0</td>\n",
              "      <td>1.3</td>\n",
              "    </tr>\n",
              "    <tr>\n",
              "      <th>14</th>\n",
              "      <td>15</td>\n",
              "      <td>5.8</td>\n",
              "      <td>4.0</td>\n",
              "      <td>1.2</td>\n",
              "      <td>0.2</td>\n",
              "    </tr>\n",
              "    <tr>\n",
              "      <th>92</th>\n",
              "      <td>93</td>\n",
              "      <td>5.8</td>\n",
              "      <td>2.6</td>\n",
              "      <td>4.0</td>\n",
              "      <td>1.2</td>\n",
              "    </tr>\n",
              "    <tr>\n",
              "      <th>51</th>\n",
              "      <td>52</td>\n",
              "      <td>6.4</td>\n",
              "      <td>3.2</td>\n",
              "      <td>4.5</td>\n",
              "      <td>1.5</td>\n",
              "    </tr>\n",
              "  </tbody>\n",
              "</table>\n",
              "<p>80 rows × 5 columns</p>\n",
              "</div>"
            ],
            "text/plain": [
              "    Id  SepalLengthCm  SepalWidthCm  PetalLengthCm  PetalWidthCm\n",
              "55  56            5.7           2.8            4.5           1.3\n",
              "88  89            5.6           3.0            4.1           1.3\n",
              "26  27            5.0           3.4            1.6           0.4\n",
              "42  43            4.4           3.2            1.3           0.2\n",
              "69  70            5.6           2.5            3.9           1.1\n",
              "..  ..            ...           ...            ...           ...\n",
              "60  61            5.0           2.0            3.5           1.0\n",
              "71  72            6.1           2.8            4.0           1.3\n",
              "14  15            5.8           4.0            1.2           0.2\n",
              "92  93            5.8           2.6            4.0           1.2\n",
              "51  52            6.4           3.2            4.5           1.5\n",
              "\n",
              "[80 rows x 5 columns]"
            ]
          },
          "metadata": {
            "tags": []
          },
          "execution_count": 87
        }
      ]
    },
    {
      "cell_type": "markdown",
      "metadata": {
        "id": "brLDnIOltHn3"
      },
      "source": [
        "# **Accuracy, Precision, Recall and F - Score**"
      ]
    },
    {
      "cell_type": "code",
      "metadata": {
        "id": "xFdsapFOXRvG"
      },
      "source": [
        "original_y_train = []\n",
        "for i in y_train.values:\n",
        "  original_y_train.append(i)"
      ],
      "execution_count": null,
      "outputs": []
    },
    {
      "cell_type": "code",
      "metadata": {
        "id": "frHJhwIw6Uij"
      },
      "source": [
        "y_test_labels = []\n",
        "for i in y_test.values:\n",
        "  y_test_labels.append(i)"
      ],
      "execution_count": null,
      "outputs": []
    },
    {
      "cell_type": "code",
      "metadata": {
        "id": "qNaCeOIcbWUV",
        "colab": {
          "base_uri": "https://localhost:8080/"
        },
        "outputId": "851bccee-a3a3-4d52-ed80-3526d434775c"
      },
      "source": [
        "import numpy as np\n",
        "\n",
        "# Initialising W values:\n",
        "W = np.array([0.1,0.1,0.1,0.1,0.1])\n",
        "W = W.reshape(1,5)\n",
        "print(W)"
      ],
      "execution_count": null,
      "outputs": [
        {
          "output_type": "stream",
          "text": [
            "[[0.1 0.1 0.1 0.1 0.1]]\n"
          ],
          "name": "stdout"
        }
      ]
    },
    {
      "cell_type": "code",
      "metadata": {
        "id": "Frt-T-z7cUeu"
      },
      "source": [
        "def SGD(eta,y,sig,W,x):\n",
        "    W = W - eta*(y - sig)*x.transpose()\n",
        "    return W"
      ],
      "execution_count": null,
      "outputs": []
    },
    {
      "cell_type": "code",
      "metadata": {
        "id": "gcelTEb9cXc2"
      },
      "source": [
        "import math\n",
        "def sigmoid(x):\n",
        "    return 1/(1+math.exp(-x))"
      ],
      "execution_count": null,
      "outputs": []
    },
    {
      "cell_type": "code",
      "metadata": {
        "id": "6VDz0ZSnQCHd"
      },
      "source": [
        "wt = []\n",
        "sigmoid = np.vectorize(sigmoid)"
      ],
      "execution_count": null,
      "outputs": []
    },
    {
      "cell_type": "code",
      "metadata": {
        "id": "_p5nBhp1cqG8",
        "colab": {
          "base_uri": "https://localhost:8080/"
        },
        "outputId": "e86b7e13-f562-4e25-b45b-c00159586741"
      },
      "source": [
        "import math\n",
        "for k in range(100):\n",
        "  wrong_classifications = 0\n",
        "  y_index = 0\n",
        "  for i in x_train.values:\n",
        "      temp = [1]\n",
        "      temp.extend(i[1:len(i)])\n",
        "      x_i = np.array([temp])\n",
        "      x_i = x_i.reshape(5,1)\n",
        "      wtx = np.dot(W,x_i)\n",
        "      wt.append(wtx)\n",
        "      sig = sigmoid(wtx)\n",
        "      y_pred = (sig >= 0.5)\n",
        "      if original_y_train[y_index] == 'Iris-setosa':\n",
        "        y = 0\n",
        "      else:\n",
        "        y = 1\n",
        "      y_index +=1\n",
        "      if y_pred != y:\n",
        "        W = SGD(0.1,y_pred,sig,W,x_i)\n",
        "        wrong_classifications += 1\n",
        "  print(wrong_classifications)\n",
        "  if wrong_classifications == 0:\n",
        "    print(\"Continuos right prediction! Model Converged!\")\n",
        "    break\n",
        "    \n",
        "print(\"Weights:\",W)    "
      ],
      "execution_count": null,
      "outputs": [
        {
          "output_type": "stream",
          "text": [
            "9\n",
            "0\n",
            "Continuos right prediction! Model Converged!\n",
            "Weights: [[ 0.04580612 -0.08582584 -0.16591267  0.29799687  0.20116174]]\n"
          ],
          "name": "stdout"
        }
      ]
    },
    {
      "cell_type": "code",
      "metadata": {
        "id": "hT4BOMlTotry"
      },
      "source": [
        "true_positive = 0\n",
        "true_negative = 0\n",
        "false_positive = 0\n",
        "false_negative = 0"
      ],
      "execution_count": null,
      "outputs": []
    },
    {
      "cell_type": "code",
      "metadata": {
        "id": "rPpshzMZvdJu"
      },
      "source": [
        "y_index = 0\n",
        "for i in x_test.values:\n",
        "  temp = [1]\n",
        "  temp.extend(i[1:len(i)])\n",
        "  x_i = np.array([temp])\n",
        "  x_i = x_i.reshape(5,1)\n",
        "  wtx = np.dot(W,x_i)\n",
        "  sig = sigmoid(wtx)\n",
        "  y_pred = (sig >= 0.5)\n",
        "  if y_test_labels[y_index] == 'Iris-setosa':\n",
        "    y = 0\n",
        "  else:\n",
        "    y = 1\n",
        "  y_index += 1\n",
        "  if y_pred == 1 and y == 1:\n",
        "    true_positive = true_positive + 1\n",
        "  elif y_pred == 0 and y == 0:\n",
        "    true_negative = true_negative + 1\n",
        "  elif y_pred == 0 and y == 1:\n",
        "    false_negative = false_negative + 1\n",
        "  else:\n",
        "    false_positive = false_positive + 1"
      ],
      "execution_count": null,
      "outputs": []
    },
    {
      "cell_type": "code",
      "metadata": {
        "colab": {
          "base_uri": "https://localhost:8080/"
        },
        "id": "W4QDNHqQxIsW",
        "outputId": "8d311abc-6d9b-4959-ea16-f04a3dac1f65"
      },
      "source": [
        "confusion_matrix = np.array(\n",
        "            [[true_positive, false_negative], [false_positive, true_negative]])\n",
        "\n",
        "print(confusion_matrix)"
      ],
      "execution_count": null,
      "outputs": [
        {
          "output_type": "stream",
          "text": [
            "[[ 8  0]\n",
            " [ 0 12]]\n"
          ],
          "name": "stdout"
        }
      ]
    },
    {
      "cell_type": "code",
      "metadata": {
        "colab": {
          "base_uri": "https://localhost:8080/"
        },
        "id": "GzBKISSLDkUB",
        "outputId": "82892a3a-8531-4697-d6b9-4408be0718ba"
      },
      "source": [
        "accuracy = ( true_positive + true_negative ) / ( true_negative + true_positive + false_negative + false_positive )\n",
        "\n",
        "print(\"Accuracy : \", accuracy)"
      ],
      "execution_count": null,
      "outputs": [
        {
          "output_type": "stream",
          "text": [
            "Accuracy :  1.0\n"
          ],
          "name": "stdout"
        }
      ]
    },
    {
      "cell_type": "code",
      "metadata": {
        "colab": {
          "base_uri": "https://localhost:8080/"
        },
        "id": "vJKTLanLD4BB",
        "outputId": "1bcf4600-b3db-43b9-cf26-7a3d60948269"
      },
      "source": [
        "if (true_positive + false_positive) == 0:\n",
        "  print(\"Precision - positive : undefined\")\n",
        "else:\n",
        "  precision_positive = true_positive / ( true_positive + false_positive )\n",
        "  print(\"Precision - positive : \", precision_positive)\n",
        "\n",
        "if (true_negative + false_negative) == 0:\n",
        "  print(\"Precision - negative : undefined\")\n",
        "else:\n",
        "  precision_negative = true_negative / ( true_negative + false_negative )\n",
        "  print(\"Precision - negative : \", precision_negative)"
      ],
      "execution_count": null,
      "outputs": [
        {
          "output_type": "stream",
          "text": [
            "Precision - positive :  1.0\n",
            "Precision - negative :  1.0\n"
          ],
          "name": "stdout"
        }
      ]
    },
    {
      "cell_type": "code",
      "metadata": {
        "colab": {
          "base_uri": "https://localhost:8080/"
        },
        "id": "aDgBTibHGhUI",
        "outputId": "74766830-4d72-4304-81ae-ab7575ba5713"
      },
      "source": [
        "if (true_positive + false_negative) == 0:\n",
        "  print(\"Recall - positive : undefined\")\n",
        "else:\n",
        "  recall_positive = true_positive / ( true_positive + false_negative )\n",
        "  print(\"Recall - positive : \", recall_positive)\n",
        "\n",
        "if (false_positive + true_negative) == 0:\n",
        "  print(\"Recall - negative : undefined\")\n",
        "else:\n",
        "  recall_negative = true_negative / ( false_positive + true_negative )\n",
        "  print(\"Recall - negative : \", recall_negative)"
      ],
      "execution_count": null,
      "outputs": [
        {
          "output_type": "stream",
          "text": [
            "Recall - positive :  1.0\n",
            "Recall - negative :  1.0\n"
          ],
          "name": "stdout"
        }
      ]
    },
    {
      "cell_type": "code",
      "metadata": {
        "colab": {
          "base_uri": "https://localhost:8080/"
        },
        "id": "Wqt33O7HHV_a",
        "outputId": "4355e512-339d-4509-e3b0-7a31cbcb0aad"
      },
      "source": [
        "f_score_positive = 2 * precision_positive * recall_positive / ( precision_positive + recall_positive )\n",
        "\n",
        "print(\"F score positive : \", f_score_positive)"
      ],
      "execution_count": null,
      "outputs": [
        {
          "output_type": "stream",
          "text": [
            "F score positive :  1.0\n"
          ],
          "name": "stdout"
        }
      ]
    },
    {
      "cell_type": "markdown",
      "metadata": {
        "id": "TseygsbotBlk"
      },
      "source": [
        "# **ROC Curve**"
      ]
    },
    {
      "cell_type": "code",
      "metadata": {
        "colab": {
          "base_uri": "https://localhost:8080/"
        },
        "id": "82oqzZ29AGkm",
        "outputId": "aac3771a-4f14-4d95-9ca8-32a52d8c42b2"
      },
      "source": [
        "Setosa = 0\n",
        "Versicolor = 0\n",
        "\n",
        "for i in data.values:\n",
        "  if i[len(i)-1] == 'Iris-setosa':\n",
        "    Setosa += 1\n",
        "  else:\n",
        "    Versicolor += 1\n",
        "\n",
        "print(\"Count of Iris Setosa: \", Setosa)\n",
        "print(\"Count of Iris Versi-color: \", Versicolor)"
      ],
      "execution_count": null,
      "outputs": [
        {
          "output_type": "stream",
          "text": [
            "Count of Iris Setosa:  50\n",
            "Count of Iris Versi-color:  50\n"
          ],
          "name": "stdout"
        }
      ]
    },
    {
      "cell_type": "code",
      "metadata": {
        "id": "XlSVENm-BBIP"
      },
      "source": [
        "n = 1/Setosa    #Setosa - 0       Versicolor - 1\n",
        "p = 1/Versicolor\n",
        "\n",
        "plot_points = {}\n",
        "\n",
        "tpr = []\n",
        "fpr = []\n",
        "wt = []\n",
        "\n",
        "tpr_value = 0\n",
        "fpr_value = 0\n",
        "\n",
        "prob_values = []"
      ],
      "execution_count": null,
      "outputs": []
    },
    {
      "cell_type": "code",
      "metadata": {
        "id": "Pv9c3OpUDHUv"
      },
      "source": [
        "for i in data.values:\n",
        "  temp = [1]\n",
        "  temp.extend(i[1:len(i)-1])\n",
        "  x_i = np.array([temp])\n",
        "  x_i = x_i.reshape(5,1)\n",
        "  wtx = np.dot(W,x_i)\n",
        "  wt.append(wtx)\n",
        "  sig = sigmoid(wtx)\n",
        "  y_pred = (sig >= 0.5)\n",
        "  prob_values.append(sig[0][0])\n",
        "\n",
        "data['Probability'] = prob_values"
      ],
      "execution_count": null,
      "outputs": []
    },
    {
      "cell_type": "code",
      "metadata": {
        "colab": {
          "base_uri": "https://localhost:8080/",
          "height": 195
        },
        "id": "IzUEWbfVF0Sz",
        "outputId": "8b1732c1-29ae-4db3-fc27-dd9adc9f4032"
      },
      "source": [
        "data.head()"
      ],
      "execution_count": null,
      "outputs": [
        {
          "output_type": "execute_result",
          "data": {
            "text/html": [
              "<div>\n",
              "<style scoped>\n",
              "    .dataframe tbody tr th:only-of-type {\n",
              "        vertical-align: middle;\n",
              "    }\n",
              "\n",
              "    .dataframe tbody tr th {\n",
              "        vertical-align: top;\n",
              "    }\n",
              "\n",
              "    .dataframe thead th {\n",
              "        text-align: right;\n",
              "    }\n",
              "</style>\n",
              "<table border=\"1\" class=\"dataframe\">\n",
              "  <thead>\n",
              "    <tr style=\"text-align: right;\">\n",
              "      <th></th>\n",
              "      <th>Id</th>\n",
              "      <th>SepalLengthCm</th>\n",
              "      <th>SepalWidthCm</th>\n",
              "      <th>PetalLengthCm</th>\n",
              "      <th>PetalWidthCm</th>\n",
              "      <th>Species</th>\n",
              "      <th>Probability</th>\n",
              "    </tr>\n",
              "  </thead>\n",
              "  <tbody>\n",
              "    <tr>\n",
              "      <th>0</th>\n",
              "      <td>1</td>\n",
              "      <td>5.1</td>\n",
              "      <td>3.5</td>\n",
              "      <td>1.4</td>\n",
              "      <td>0.2</td>\n",
              "      <td>Iris-setosa</td>\n",
              "      <td>0.373982</td>\n",
              "    </tr>\n",
              "    <tr>\n",
              "      <th>1</th>\n",
              "      <td>2</td>\n",
              "      <td>4.9</td>\n",
              "      <td>3.0</td>\n",
              "      <td>1.4</td>\n",
              "      <td>0.2</td>\n",
              "      <td>Iris-setosa</td>\n",
              "      <td>0.397702</td>\n",
              "    </tr>\n",
              "    <tr>\n",
              "      <th>2</th>\n",
              "      <td>3</td>\n",
              "      <td>4.7</td>\n",
              "      <td>3.2</td>\n",
              "      <td>1.3</td>\n",
              "      <td>0.2</td>\n",
              "      <td>Iris-setosa</td>\n",
              "      <td>0.386780</td>\n",
              "    </tr>\n",
              "    <tr>\n",
              "      <th>3</th>\n",
              "      <td>4</td>\n",
              "      <td>4.6</td>\n",
              "      <td>3.1</td>\n",
              "      <td>1.5</td>\n",
              "      <td>0.2</td>\n",
              "      <td>Iris-setosa</td>\n",
              "      <td>0.407069</td>\n",
              "    </tr>\n",
              "    <tr>\n",
              "      <th>4</th>\n",
              "      <td>5</td>\n",
              "      <td>5.0</td>\n",
              "      <td>3.6</td>\n",
              "      <td>1.4</td>\n",
              "      <td>0.2</td>\n",
              "      <td>Iris-setosa</td>\n",
              "      <td>0.372109</td>\n",
              "    </tr>\n",
              "  </tbody>\n",
              "</table>\n",
              "</div>"
            ],
            "text/plain": [
              "   Id  SepalLengthCm  SepalWidthCm  ...  PetalWidthCm      Species Probability\n",
              "0   1            5.1           3.5  ...           0.2  Iris-setosa    0.373982\n",
              "1   2            4.9           3.0  ...           0.2  Iris-setosa    0.397702\n",
              "2   3            4.7           3.2  ...           0.2  Iris-setosa    0.386780\n",
              "3   4            4.6           3.1  ...           0.2  Iris-setosa    0.407069\n",
              "4   5            5.0           3.6  ...           0.2  Iris-setosa    0.372109\n",
              "\n",
              "[5 rows x 7 columns]"
            ]
          },
          "metadata": {
            "tags": []
          },
          "execution_count": 155
        }
      ]
    },
    {
      "cell_type": "code",
      "metadata": {
        "colab": {
          "base_uri": "https://localhost:8080/",
          "height": 402
        },
        "id": "maupzuOGoy9r",
        "outputId": "50ba2bd2-e2c1-4ab6-f40b-b80ac61939fa"
      },
      "source": [
        "data = data.sort_values('Probability', ascending=False, axis=0)\n",
        "data"
      ],
      "execution_count": null,
      "outputs": [
        {
          "output_type": "execute_result",
          "data": {
            "text/html": [
              "<div>\n",
              "<style scoped>\n",
              "    .dataframe tbody tr th:only-of-type {\n",
              "        vertical-align: middle;\n",
              "    }\n",
              "\n",
              "    .dataframe tbody tr th {\n",
              "        vertical-align: top;\n",
              "    }\n",
              "\n",
              "    .dataframe thead th {\n",
              "        text-align: right;\n",
              "    }\n",
              "</style>\n",
              "<table border=\"1\" class=\"dataframe\">\n",
              "  <thead>\n",
              "    <tr style=\"text-align: right;\">\n",
              "      <th></th>\n",
              "      <th>Id</th>\n",
              "      <th>SepalLengthCm</th>\n",
              "      <th>SepalWidthCm</th>\n",
              "      <th>PetalLengthCm</th>\n",
              "      <th>PetalWidthCm</th>\n",
              "      <th>Species</th>\n",
              "      <th>Probability</th>\n",
              "    </tr>\n",
              "  </thead>\n",
              "  <tbody>\n",
              "    <tr>\n",
              "      <th>83</th>\n",
              "      <td>84</td>\n",
              "      <td>6.0</td>\n",
              "      <td>2.7</td>\n",
              "      <td>5.1</td>\n",
              "      <td>1.6</td>\n",
              "      <td>Iris-versicolor</td>\n",
              "      <td>0.715964</td>\n",
              "    </tr>\n",
              "    <tr>\n",
              "      <th>72</th>\n",
              "      <td>73</td>\n",
              "      <td>6.3</td>\n",
              "      <td>2.5</td>\n",
              "      <td>4.9</td>\n",
              "      <td>1.5</td>\n",
              "      <td>Iris-versicolor</td>\n",
              "      <td>0.701039</td>\n",
              "    </tr>\n",
              "    <tr>\n",
              "      <th>77</th>\n",
              "      <td>78</td>\n",
              "      <td>6.7</td>\n",
              "      <td>3.0</td>\n",
              "      <td>5.0</td>\n",
              "      <td>1.7</td>\n",
              "      <td>Iris-versicolor</td>\n",
              "      <td>0.691042</td>\n",
              "    </tr>\n",
              "    <tr>\n",
              "      <th>70</th>\n",
              "      <td>71</td>\n",
              "      <td>5.9</td>\n",
              "      <td>3.2</td>\n",
              "      <td>4.8</td>\n",
              "      <td>1.8</td>\n",
              "      <td>Iris-versicolor</td>\n",
              "      <td>0.690186</td>\n",
              "    </tr>\n",
              "    <tr>\n",
              "      <th>68</th>\n",
              "      <td>69</td>\n",
              "      <td>6.2</td>\n",
              "      <td>2.2</td>\n",
              "      <td>4.5</td>\n",
              "      <td>1.5</td>\n",
              "      <td>Iris-versicolor</td>\n",
              "      <td>0.688133</td>\n",
              "    </tr>\n",
              "    <tr>\n",
              "      <th>...</th>\n",
              "      <td>...</td>\n",
              "      <td>...</td>\n",
              "      <td>...</td>\n",
              "      <td>...</td>\n",
              "      <td>...</td>\n",
              "      <td>...</td>\n",
              "      <td>...</td>\n",
              "    </tr>\n",
              "    <tr>\n",
              "      <th>22</th>\n",
              "      <td>23</td>\n",
              "      <td>4.6</td>\n",
              "      <td>3.6</td>\n",
              "      <td>1.0</td>\n",
              "      <td>0.2</td>\n",
              "      <td>Iris-setosa</td>\n",
              "      <td>0.352504</td>\n",
              "    </tr>\n",
              "    <tr>\n",
              "      <th>32</th>\n",
              "      <td>33</td>\n",
              "      <td>5.2</td>\n",
              "      <td>4.1</td>\n",
              "      <td>1.5</td>\n",
              "      <td>0.1</td>\n",
              "      <td>Iris-setosa</td>\n",
              "      <td>0.351234</td>\n",
              "    </tr>\n",
              "    <tr>\n",
              "      <th>15</th>\n",
              "      <td>16</td>\n",
              "      <td>5.7</td>\n",
              "      <td>4.4</td>\n",
              "      <td>1.5</td>\n",
              "      <td>0.4</td>\n",
              "      <td>Iris-setosa</td>\n",
              "      <td>0.343901</td>\n",
              "    </tr>\n",
              "    <tr>\n",
              "      <th>33</th>\n",
              "      <td>34</td>\n",
              "      <td>5.5</td>\n",
              "      <td>4.2</td>\n",
              "      <td>1.4</td>\n",
              "      <td>0.2</td>\n",
              "      <td>Iris-setosa</td>\n",
              "      <td>0.339474</td>\n",
              "    </tr>\n",
              "    <tr>\n",
              "      <th>14</th>\n",
              "      <td>15</td>\n",
              "      <td>5.8</td>\n",
              "      <td>4.0</td>\n",
              "      <td>1.2</td>\n",
              "      <td>0.2</td>\n",
              "      <td>Iris-setosa</td>\n",
              "      <td>0.327876</td>\n",
              "    </tr>\n",
              "  </tbody>\n",
              "</table>\n",
              "<p>100 rows × 7 columns</p>\n",
              "</div>"
            ],
            "text/plain": [
              "    Id  SepalLengthCm  SepalWidthCm  ...  PetalWidthCm          Species Probability\n",
              "83  84            6.0           2.7  ...           1.6  Iris-versicolor    0.715964\n",
              "72  73            6.3           2.5  ...           1.5  Iris-versicolor    0.701039\n",
              "77  78            6.7           3.0  ...           1.7  Iris-versicolor    0.691042\n",
              "70  71            5.9           3.2  ...           1.8  Iris-versicolor    0.690186\n",
              "68  69            6.2           2.2  ...           1.5  Iris-versicolor    0.688133\n",
              "..  ..            ...           ...  ...           ...              ...         ...\n",
              "22  23            4.6           3.6  ...           0.2      Iris-setosa    0.352504\n",
              "32  33            5.2           4.1  ...           0.1      Iris-setosa    0.351234\n",
              "15  16            5.7           4.4  ...           0.4      Iris-setosa    0.343901\n",
              "33  34            5.5           4.2  ...           0.2      Iris-setosa    0.339474\n",
              "14  15            5.8           4.0  ...           0.2      Iris-setosa    0.327876\n",
              "\n",
              "[100 rows x 7 columns]"
            ]
          },
          "metadata": {
            "tags": []
          },
          "execution_count": 156
        }
      ]
    },
    {
      "cell_type": "code",
      "metadata": {
        "colab": {
          "base_uri": "https://localhost:8080/"
        },
        "id": "tj7hdFsfp5DA",
        "outputId": "ab034c43-df16-43f8-e9b7-7a3d9d82fa9e"
      },
      "source": [
        "for i in data.values:\n",
        "  #print(i)\n",
        "  threshold = i[6]\n",
        "\n",
        "  y_pred = 1\n",
        "  if i[5] == 'Iris-setosa':\n",
        "    y = 0\n",
        "  else:\n",
        "    y = 1\n",
        "\n",
        "  if y == y_pred:\n",
        "    tpr_value += p\n",
        "  else:\n",
        "    fpr_value += n\n",
        "\n",
        "  tpr.append(tpr_value)\n",
        "  fpr.append(fpr_value)\n",
        "\n",
        "plot_points['x'] = fpr\n",
        "plot_points['y'] = tpr\n",
        "\n",
        "plot_points"
      ],
      "execution_count": null,
      "outputs": [
        {
          "output_type": "execute_result",
          "data": {
            "text/plain": [
              "{'x': [0,\n",
              "  0,\n",
              "  0,\n",
              "  0,\n",
              "  0,\n",
              "  0,\n",
              "  0,\n",
              "  0,\n",
              "  0,\n",
              "  0,\n",
              "  0,\n",
              "  0,\n",
              "  0,\n",
              "  0,\n",
              "  0,\n",
              "  0,\n",
              "  0,\n",
              "  0,\n",
              "  0,\n",
              "  0,\n",
              "  0,\n",
              "  0,\n",
              "  0,\n",
              "  0,\n",
              "  0,\n",
              "  0,\n",
              "  0,\n",
              "  0,\n",
              "  0,\n",
              "  0,\n",
              "  0,\n",
              "  0,\n",
              "  0,\n",
              "  0,\n",
              "  0,\n",
              "  0,\n",
              "  0,\n",
              "  0,\n",
              "  0,\n",
              "  0,\n",
              "  0,\n",
              "  0,\n",
              "  0,\n",
              "  0,\n",
              "  0,\n",
              "  0,\n",
              "  0,\n",
              "  0,\n",
              "  0,\n",
              "  0,\n",
              "  0.02,\n",
              "  0.04,\n",
              "  0.06,\n",
              "  0.08,\n",
              "  0.1,\n",
              "  0.12000000000000001,\n",
              "  0.14,\n",
              "  0.16,\n",
              "  0.18,\n",
              "  0.19999999999999998,\n",
              "  0.21999999999999997,\n",
              "  0.23999999999999996,\n",
              "  0.25999999999999995,\n",
              "  0.27999999999999997,\n",
              "  0.3,\n",
              "  0.32,\n",
              "  0.34,\n",
              "  0.36000000000000004,\n",
              "  0.38000000000000006,\n",
              "  0.4000000000000001,\n",
              "  0.4200000000000001,\n",
              "  0.4400000000000001,\n",
              "  0.46000000000000013,\n",
              "  0.48000000000000015,\n",
              "  0.5000000000000001,\n",
              "  0.5200000000000001,\n",
              "  0.5400000000000001,\n",
              "  0.5600000000000002,\n",
              "  0.5800000000000002,\n",
              "  0.6000000000000002,\n",
              "  0.6200000000000002,\n",
              "  0.6400000000000002,\n",
              "  0.6600000000000003,\n",
              "  0.6800000000000003,\n",
              "  0.7000000000000003,\n",
              "  0.7200000000000003,\n",
              "  0.7400000000000003,\n",
              "  0.7600000000000003,\n",
              "  0.7800000000000004,\n",
              "  0.8000000000000004,\n",
              "  0.8200000000000004,\n",
              "  0.8400000000000004,\n",
              "  0.8600000000000004,\n",
              "  0.8800000000000004,\n",
              "  0.9000000000000005,\n",
              "  0.9200000000000005,\n",
              "  0.9400000000000005,\n",
              "  0.9600000000000005,\n",
              "  0.9800000000000005,\n",
              "  1.0000000000000004],\n",
              " 'y': [0.02,\n",
              "  0.04,\n",
              "  0.06,\n",
              "  0.08,\n",
              "  0.1,\n",
              "  0.12000000000000001,\n",
              "  0.14,\n",
              "  0.16,\n",
              "  0.18,\n",
              "  0.19999999999999998,\n",
              "  0.21999999999999997,\n",
              "  0.23999999999999996,\n",
              "  0.25999999999999995,\n",
              "  0.27999999999999997,\n",
              "  0.3,\n",
              "  0.32,\n",
              "  0.34,\n",
              "  0.36000000000000004,\n",
              "  0.38000000000000006,\n",
              "  0.4000000000000001,\n",
              "  0.4200000000000001,\n",
              "  0.4400000000000001,\n",
              "  0.46000000000000013,\n",
              "  0.48000000000000015,\n",
              "  0.5000000000000001,\n",
              "  0.5200000000000001,\n",
              "  0.5400000000000001,\n",
              "  0.5600000000000002,\n",
              "  0.5800000000000002,\n",
              "  0.6000000000000002,\n",
              "  0.6200000000000002,\n",
              "  0.6400000000000002,\n",
              "  0.6600000000000003,\n",
              "  0.6800000000000003,\n",
              "  0.7000000000000003,\n",
              "  0.7200000000000003,\n",
              "  0.7400000000000003,\n",
              "  0.7600000000000003,\n",
              "  0.7800000000000004,\n",
              "  0.8000000000000004,\n",
              "  0.8200000000000004,\n",
              "  0.8400000000000004,\n",
              "  0.8600000000000004,\n",
              "  0.8800000000000004,\n",
              "  0.9000000000000005,\n",
              "  0.9200000000000005,\n",
              "  0.9400000000000005,\n",
              "  0.9600000000000005,\n",
              "  0.9800000000000005,\n",
              "  1.0000000000000004,\n",
              "  1.0000000000000004,\n",
              "  1.0000000000000004,\n",
              "  1.0000000000000004,\n",
              "  1.0000000000000004,\n",
              "  1.0000000000000004,\n",
              "  1.0000000000000004,\n",
              "  1.0000000000000004,\n",
              "  1.0000000000000004,\n",
              "  1.0000000000000004,\n",
              "  1.0000000000000004,\n",
              "  1.0000000000000004,\n",
              "  1.0000000000000004,\n",
              "  1.0000000000000004,\n",
              "  1.0000000000000004,\n",
              "  1.0000000000000004,\n",
              "  1.0000000000000004,\n",
              "  1.0000000000000004,\n",
              "  1.0000000000000004,\n",
              "  1.0000000000000004,\n",
              "  1.0000000000000004,\n",
              "  1.0000000000000004,\n",
              "  1.0000000000000004,\n",
              "  1.0000000000000004,\n",
              "  1.0000000000000004,\n",
              "  1.0000000000000004,\n",
              "  1.0000000000000004,\n",
              "  1.0000000000000004,\n",
              "  1.0000000000000004,\n",
              "  1.0000000000000004,\n",
              "  1.0000000000000004,\n",
              "  1.0000000000000004,\n",
              "  1.0000000000000004,\n",
              "  1.0000000000000004,\n",
              "  1.0000000000000004,\n",
              "  1.0000000000000004,\n",
              "  1.0000000000000004,\n",
              "  1.0000000000000004,\n",
              "  1.0000000000000004,\n",
              "  1.0000000000000004,\n",
              "  1.0000000000000004,\n",
              "  1.0000000000000004,\n",
              "  1.0000000000000004,\n",
              "  1.0000000000000004,\n",
              "  1.0000000000000004,\n",
              "  1.0000000000000004,\n",
              "  1.0000000000000004,\n",
              "  1.0000000000000004,\n",
              "  1.0000000000000004,\n",
              "  1.0000000000000004,\n",
              "  1.0000000000000004]}"
            ]
          },
          "metadata": {
            "tags": []
          },
          "execution_count": 157
        }
      ]
    },
    {
      "cell_type": "code",
      "metadata": {
        "colab": {
          "base_uri": "https://localhost:8080/",
          "height": 295
        },
        "id": "27gkHkiIr5lG",
        "outputId": "530a510d-469e-4d76-a3cf-bfbf582c63f0"
      },
      "source": [
        "import matplotlib.pyplot as plt\n",
        "\n",
        "plt.plot(plot_points['x'], plot_points['y'])\n",
        "plt.xlabel(\"FPR\")\n",
        "plt.ylabel(\"TPR\")\n",
        "plt.title(\"ROC Curve\")\n",
        "plt.show()"
      ],
      "execution_count": null,
      "outputs": [
        {
          "output_type": "display_data",
          "data": {
            "image/png": "[encoded data removed]",
            "text/plain": [
              "<Figure size 432x288 with 1 Axes>"
            ]
          },
          "metadata": {
            "tags": [],
            "needs_background": "light"
          }
        }
      ]
    },
    {
      "cell_type": "markdown",
      "metadata": {
        "id": "MrfBF9dVs5qd"
      },
      "source": [
        "# **AUC** in this case is 1\n",
        "\n",
        "This is an ideal case"
      ]
    }
  ]
}